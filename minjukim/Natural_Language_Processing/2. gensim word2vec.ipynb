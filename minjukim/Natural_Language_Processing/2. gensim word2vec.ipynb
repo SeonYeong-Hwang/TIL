{
 "cells": [
  {
   "cell_type": "markdown",
   "metadata": {},
   "source": [
    "## 말뭉치 읽기"
   ]
  },
  {
   "cell_type": "code",
   "execution_count": 1,
   "metadata": {},
   "outputs": [],
   "source": [
    "from gensim.models import Word2Vec"
   ]
  },
  {
   "cell_type": "code",
   "execution_count": 2,
   "metadata": {},
   "outputs": [],
   "source": [
    "corpus = []\n",
    "for line in open(\"data/phone_review_mecab.txt\", \"r\", encoding=\"utf-8\").readlines():\n",
    "    tokens = line.strip().split()\n",
    "    corpus.append(tokens)"
   ]
  },
  {
   "cell_type": "code",
   "execution_count": 4,
   "metadata": {},
   "outputs": [
    {
     "data": {
      "text/plain": [
       "293189"
      ]
     },
     "execution_count": 4,
     "metadata": {},
     "output_type": "execute_result"
    }
   ],
   "source": [
    "len(corpus) # 말뭉치의 길이"
   ]
  },
  {
   "cell_type": "markdown",
   "metadata": {},
   "source": [
    "## Skip-Gram 임베딩\n",
    "negative sampling"
   ]
  },
  {
   "cell_type": "code",
   "execution_count": 5,
   "metadata": {},
   "outputs": [],
   "source": [
    "# back propagation 자동으로 해준다\n",
    "\n",
    "embedding_model = Word2Vec(corpus,       # input : [[token1, token2, ...], [token1, token2, ...]]\n",
    "                           size=100,     # size: dimension\n",
    "                           window = 2,   # target: 앞뒤로 몇개의 단어를 볼지 결정\n",
    "                           workers=4,    # thread 수\n",
    "                           sg=1)         # sg=1 : defalut, skip-gram(target word > context word) 여부, \n",
    "                                         # 1 : skip-gram\n",
    "                                         # 0 : cbow"
   ]
  },
  {
   "cell_type": "code",
   "execution_count": 6,
   "metadata": {},
   "outputs": [],
   "source": [
    "embedding_model.save(\"embedding/word2vec\")"
   ]
  },
  {
   "cell_type": "markdown",
   "metadata": {},
   "source": [
    "## Skip-Gram 임베딩 읽어들이기"
   ]
  },
  {
   "cell_type": "code",
   "execution_count": 7,
   "metadata": {},
   "outputs": [],
   "source": [
    "from gensim.models import Word2Vec\n",
    "embedding_model = Word2Vec.load(\"embedding/word2vec\")"
   ]
  },
  {
   "cell_type": "code",
   "execution_count": 9,
   "metadata": {},
   "outputs": [
    {
     "data": {
      "text/plain": [
       "<gensim.models.keyedvectors.Word2VecKeyedVectors at 0x2ae3c65e8d0>"
      ]
     },
     "execution_count": 9,
     "metadata": {},
     "output_type": "execute_result"
    }
   ],
   "source": [
    "# wv : word vector\n",
    "embedding_model.wv"
   ]
  },
  {
   "cell_type": "code",
   "execution_count": 8,
   "metadata": {},
   "outputs": [
    {
     "data": {
      "text/plain": [
       "array([-6.92137539e-01,  5.00585020e-01,  1.56238645e-01, -3.84098202e-01,\n",
       "        2.74021357e-01,  1.03710391e-01, -5.78586221e-01,  1.05814360e-01,\n",
       "        4.16480899e-02,  1.07101411e-01, -1.78247005e-01, -4.18365568e-01,\n",
       "        1.16108306e-01, -2.78781354e-01,  4.42766733e-02, -5.91917709e-02,\n",
       "        4.14409995e-01, -4.59095806e-01, -6.06498003e-01, -1.49665505e-01,\n",
       "        3.29480976e-01, -1.09163843e-01,  9.39316750e-02,  1.91694289e-01,\n",
       "        1.83611512e-01,  4.01866436e-01,  2.15231404e-02,  1.32973716e-01,\n",
       "        6.04255676e-01,  7.93497682e-01,  3.62070322e-01,  4.56160814e-01,\n",
       "        3.55643630e-01, -1.52785927e-01, -3.25357243e-02, -1.95726752e-01,\n",
       "       -1.00610986e-01,  7.39861280e-03, -2.82465458e-01, -2.97254883e-02,\n",
       "        1.54788643e-01,  2.27146745e-01, -1.90797016e-01, -6.05341271e-02,\n",
       "       -1.33778781e-01, -1.72604784e-01, -3.80382776e-01, -1.27952680e-01,\n",
       "        1.62757620e-01,  5.42557538e-01,  1.00075006e-01, -7.26817583e-04,\n",
       "        1.34640738e-01,  2.71339603e-02,  5.35559833e-01, -4.19908725e-02,\n",
       "        1.20499820e-01, -2.07772225e-01,  2.48061284e-01, -1.68811440e-01,\n",
       "        1.19144060e-01,  2.89925575e-01,  2.31062829e-01, -2.36382931e-01,\n",
       "        5.72939515e-02, -4.73158151e-01,  4.85241413e-01,  1.29372522e-01,\n",
       "        3.28865379e-01, -3.42913389e-01,  4.75630373e-01, -1.50774792e-01,\n",
       "        2.79838502e-01,  4.36892867e-01,  1.83799028e-01, -4.11512330e-02,\n",
       "       -3.07645947e-01,  4.94235039e-01, -4.16960791e-02, -1.61009848e-01,\n",
       "       -8.84668678e-02, -3.48477364e-01,  6.19045079e-01, -7.86813870e-02,\n",
       "        1.85654491e-01, -3.48068714e-01,  3.30406368e-01,  3.00256580e-01,\n",
       "       -1.66635185e-01,  2.77836144e-01, -2.00875804e-01,  3.45923305e-01,\n",
       "       -2.29887694e-01, -2.40725309e-01,  4.47440594e-01, -1.37609050e-01,\n",
       "       -8.85677263e-02,  5.00430465e-02, -1.92771569e-01,  2.26279423e-01],\n",
       "      dtype=float32)"
      ]
     },
     "execution_count": 8,
     "metadata": {},
     "output_type": "execute_result"
    }
   ],
   "source": [
    "# word vector 의 '나' 라는 벡터\n",
    "embedding_model.wv[\"나\"]"
   ]
  },
  {
   "cell_type": "code",
   "execution_count": 31,
   "metadata": {},
   "outputs": [
    {
     "name": "stderr",
     "output_type": "stream",
     "text": [
      "C:\\Users\\Minju\\Anaconda3\\lib\\site-packages\\ipykernel_launcher.py:1: DeprecationWarning: Call to deprecated `most_similar` (Method will be removed in 4.0.0, use self.wv.most_similar() instead).\n",
      "  \"\"\"Entry point for launching an IPython kernel.\n"
     ]
    },
    {
     "data": {
      "text/plain": [
       "[('외형', 0.7763488292694092),\n",
       " ('UI', 0.7097629308700562),\n",
       " ('컨셉', 0.7055120468139648),\n",
       " ('시야각', 0.6925698518753052),\n",
       " ('촉감', 0.6924220323562622)]"
      ]
     },
     "execution_count": 31,
     "metadata": {},
     "output_type": "execute_result"
    }
   ],
   "source": [
    "embedding_model.most_similar(\"디자인\", topn=5)"
   ]
  },
  {
   "cell_type": "code",
   "execution_count": 27,
   "metadata": {},
   "outputs": [],
   "source": [
    "vocab = embedding_model.wv.index2word"
   ]
  },
  {
   "cell_type": "code",
   "execution_count": 30,
   "metadata": {},
   "outputs": [
    {
     "data": {
      "text/plain": [
       "23600"
      ]
     },
     "execution_count": 30,
     "metadata": {},
     "output_type": "execute_result"
    }
   ],
   "source": [
    "len(vocab)"
   ]
  },
  {
   "cell_type": "markdown",
   "metadata": {},
   "source": [
    "## 임베딩 시각화"
   ]
  },
  {
   "cell_type": "code",
   "execution_count": 28,
   "metadata": {},
   "outputs": [
    {
     "data": {
      "text/html": [
       "\n",
       "    <div class=\"bk-root\">\n",
       "        <a href=\"https://bokeh.pydata.org\" target=\"_blank\" class=\"bk-logo bk-logo-small bk-logo-notebook\"></a>\n",
       "        <span id=\"1001\">Loading BokehJS ...</span>\n",
       "    </div>"
      ]
     },
     "metadata": {},
     "output_type": "display_data"
    },
    {
     "data": {
      "application/javascript": [
       "\n",
       "(function(root) {\n",
       "  function now() {\n",
       "    return new Date();\n",
       "  }\n",
       "\n",
       "  var force = true;\n",
       "\n",
       "  if (typeof (root._bokeh_onload_callbacks) === \"undefined\" || force === true) {\n",
       "    root._bokeh_onload_callbacks = [];\n",
       "    root._bokeh_is_loading = undefined;\n",
       "  }\n",
       "\n",
       "  var JS_MIME_TYPE = 'application/javascript';\n",
       "  var HTML_MIME_TYPE = 'text/html';\n",
       "  var EXEC_MIME_TYPE = 'application/vnd.bokehjs_exec.v0+json';\n",
       "  var CLASS_NAME = 'output_bokeh rendered_html';\n",
       "\n",
       "  /**\n",
       "   * Render data to the DOM node\n",
       "   */\n",
       "  function render(props, node) {\n",
       "    var script = document.createElement(\"script\");\n",
       "    node.appendChild(script);\n",
       "  }\n",
       "\n",
       "  /**\n",
       "   * Handle when an output is cleared or removed\n",
       "   */\n",
       "  function handleClearOutput(event, handle) {\n",
       "    var cell = handle.cell;\n",
       "\n",
       "    var id = cell.output_area._bokeh_element_id;\n",
       "    var server_id = cell.output_area._bokeh_server_id;\n",
       "    // Clean up Bokeh references\n",
       "    if (id != null && id in Bokeh.index) {\n",
       "      Bokeh.index[id].model.document.clear();\n",
       "      delete Bokeh.index[id];\n",
       "    }\n",
       "\n",
       "    if (server_id !== undefined) {\n",
       "      // Clean up Bokeh references\n",
       "      var cmd = \"from bokeh.io.state import curstate; print(curstate().uuid_to_server['\" + server_id + \"'].get_sessions()[0].document.roots[0]._id)\";\n",
       "      cell.notebook.kernel.execute(cmd, {\n",
       "        iopub: {\n",
       "          output: function(msg) {\n",
       "            var id = msg.content.text.trim();\n",
       "            if (id in Bokeh.index) {\n",
       "              Bokeh.index[id].model.document.clear();\n",
       "              delete Bokeh.index[id];\n",
       "            }\n",
       "          }\n",
       "        }\n",
       "      });\n",
       "      // Destroy server and session\n",
       "      var cmd = \"import bokeh.io.notebook as ion; ion.destroy_server('\" + server_id + \"')\";\n",
       "      cell.notebook.kernel.execute(cmd);\n",
       "    }\n",
       "  }\n",
       "\n",
       "  /**\n",
       "   * Handle when a new output is added\n",
       "   */\n",
       "  function handleAddOutput(event, handle) {\n",
       "    var output_area = handle.output_area;\n",
       "    var output = handle.output;\n",
       "\n",
       "    // limit handleAddOutput to display_data with EXEC_MIME_TYPE content only\n",
       "    if ((output.output_type != \"display_data\") || (!output.data.hasOwnProperty(EXEC_MIME_TYPE))) {\n",
       "      return\n",
       "    }\n",
       "\n",
       "    var toinsert = output_area.element.find(\".\" + CLASS_NAME.split(' ')[0]);\n",
       "\n",
       "    if (output.metadata[EXEC_MIME_TYPE][\"id\"] !== undefined) {\n",
       "      toinsert[toinsert.length - 1].firstChild.textContent = output.data[JS_MIME_TYPE];\n",
       "      // store reference to embed id on output_area\n",
       "      output_area._bokeh_element_id = output.metadata[EXEC_MIME_TYPE][\"id\"];\n",
       "    }\n",
       "    if (output.metadata[EXEC_MIME_TYPE][\"server_id\"] !== undefined) {\n",
       "      var bk_div = document.createElement(\"div\");\n",
       "      bk_div.innerHTML = output.data[HTML_MIME_TYPE];\n",
       "      var script_attrs = bk_div.children[0].attributes;\n",
       "      for (var i = 0; i < script_attrs.length; i++) {\n",
       "        toinsert[toinsert.length - 1].firstChild.setAttribute(script_attrs[i].name, script_attrs[i].value);\n",
       "      }\n",
       "      // store reference to server id on output_area\n",
       "      output_area._bokeh_server_id = output.metadata[EXEC_MIME_TYPE][\"server_id\"];\n",
       "    }\n",
       "  }\n",
       "\n",
       "  function register_renderer(events, OutputArea) {\n",
       "\n",
       "    function append_mime(data, metadata, element) {\n",
       "      // create a DOM node to render to\n",
       "      var toinsert = this.create_output_subarea(\n",
       "        metadata,\n",
       "        CLASS_NAME,\n",
       "        EXEC_MIME_TYPE\n",
       "      );\n",
       "      this.keyboard_manager.register_events(toinsert);\n",
       "      // Render to node\n",
       "      var props = {data: data, metadata: metadata[EXEC_MIME_TYPE]};\n",
       "      render(props, toinsert[toinsert.length - 1]);\n",
       "      element.append(toinsert);\n",
       "      return toinsert\n",
       "    }\n",
       "\n",
       "    /* Handle when an output is cleared or removed */\n",
       "    events.on('clear_output.CodeCell', handleClearOutput);\n",
       "    events.on('delete.Cell', handleClearOutput);\n",
       "\n",
       "    /* Handle when a new output is added */\n",
       "    events.on('output_added.OutputArea', handleAddOutput);\n",
       "\n",
       "    /**\n",
       "     * Register the mime type and append_mime function with output_area\n",
       "     */\n",
       "    OutputArea.prototype.register_mime_type(EXEC_MIME_TYPE, append_mime, {\n",
       "      /* Is output safe? */\n",
       "      safe: true,\n",
       "      /* Index of renderer in `output_area.display_order` */\n",
       "      index: 0\n",
       "    });\n",
       "  }\n",
       "\n",
       "  // register the mime type if in Jupyter Notebook environment and previously unregistered\n",
       "  if (root.Jupyter !== undefined) {\n",
       "    var events = require('base/js/events');\n",
       "    var OutputArea = require('notebook/js/outputarea').OutputArea;\n",
       "\n",
       "    if (OutputArea.prototype.mime_types().indexOf(EXEC_MIME_TYPE) == -1) {\n",
       "      register_renderer(events, OutputArea);\n",
       "    }\n",
       "  }\n",
       "\n",
       "  \n",
       "  if (typeof (root._bokeh_timeout) === \"undefined\" || force === true) {\n",
       "    root._bokeh_timeout = Date.now() + 5000;\n",
       "    root._bokeh_failed_load = false;\n",
       "  }\n",
       "\n",
       "  var NB_LOAD_WARNING = {'data': {'text/html':\n",
       "     \"<div style='background-color: #fdd'>\\n\"+\n",
       "     \"<p>\\n\"+\n",
       "     \"BokehJS does not appear to have successfully loaded. If loading BokehJS from CDN, this \\n\"+\n",
       "     \"may be due to a slow or bad network connection. Possible fixes:\\n\"+\n",
       "     \"</p>\\n\"+\n",
       "     \"<ul>\\n\"+\n",
       "     \"<li>re-rerun `output_notebook()` to attempt to load from CDN again, or</li>\\n\"+\n",
       "     \"<li>use INLINE resources instead, as so:</li>\\n\"+\n",
       "     \"</ul>\\n\"+\n",
       "     \"<code>\\n\"+\n",
       "     \"from bokeh.resources import INLINE\\n\"+\n",
       "     \"output_notebook(resources=INLINE)\\n\"+\n",
       "     \"</code>\\n\"+\n",
       "     \"</div>\"}};\n",
       "\n",
       "  function display_loaded() {\n",
       "    var el = document.getElementById(\"1001\");\n",
       "    if (el != null) {\n",
       "      el.textContent = \"BokehJS is loading...\";\n",
       "    }\n",
       "    if (root.Bokeh !== undefined) {\n",
       "      if (el != null) {\n",
       "        el.textContent = \"BokehJS \" + root.Bokeh.version + \" successfully loaded.\";\n",
       "      }\n",
       "    } else if (Date.now() < root._bokeh_timeout) {\n",
       "      setTimeout(display_loaded, 100)\n",
       "    }\n",
       "  }\n",
       "\n",
       "\n",
       "  function run_callbacks() {\n",
       "    try {\n",
       "      root._bokeh_onload_callbacks.forEach(function(callback) { callback() });\n",
       "    }\n",
       "    finally {\n",
       "      delete root._bokeh_onload_callbacks\n",
       "    }\n",
       "    console.info(\"Bokeh: all callbacks have finished\");\n",
       "  }\n",
       "\n",
       "  function load_libs(js_urls, callback) {\n",
       "    root._bokeh_onload_callbacks.push(callback);\n",
       "    if (root._bokeh_is_loading > 0) {\n",
       "      console.log(\"Bokeh: BokehJS is being loaded, scheduling callback at\", now());\n",
       "      return null;\n",
       "    }\n",
       "    if (js_urls == null || js_urls.length === 0) {\n",
       "      run_callbacks();\n",
       "      return null;\n",
       "    }\n",
       "    console.log(\"Bokeh: BokehJS not loaded, scheduling load and callback at\", now());\n",
       "    root._bokeh_is_loading = js_urls.length;\n",
       "    for (var i = 0; i < js_urls.length; i++) {\n",
       "      var url = js_urls[i];\n",
       "      var s = document.createElement('script');\n",
       "      s.src = url;\n",
       "      s.async = false;\n",
       "      s.onreadystatechange = s.onload = function() {\n",
       "        root._bokeh_is_loading--;\n",
       "        if (root._bokeh_is_loading === 0) {\n",
       "          console.log(\"Bokeh: all BokehJS libraries loaded\");\n",
       "          run_callbacks()\n",
       "        }\n",
       "      };\n",
       "      s.onerror = function() {\n",
       "        console.warn(\"failed to load library \" + url);\n",
       "      };\n",
       "      console.log(\"Bokeh: injecting script tag for BokehJS library: \", url);\n",
       "      document.getElementsByTagName(\"head\")[0].appendChild(s);\n",
       "    }\n",
       "  };var element = document.getElementById(\"1001\");\n",
       "  if (element == null) {\n",
       "    console.log(\"Bokeh: ERROR: autoload.js configured with elementid '1001' but no matching script tag was found. \")\n",
       "    return false;\n",
       "  }\n",
       "\n",
       "  var js_urls = [\"https://cdn.pydata.org/bokeh/release/bokeh-1.0.4.min.js\", \"https://cdn.pydata.org/bokeh/release/bokeh-widgets-1.0.4.min.js\", \"https://cdn.pydata.org/bokeh/release/bokeh-tables-1.0.4.min.js\", \"https://cdn.pydata.org/bokeh/release/bokeh-gl-1.0.4.min.js\"];\n",
       "\n",
       "  var inline_js = [\n",
       "    function(Bokeh) {\n",
       "      Bokeh.set_log_level(\"info\");\n",
       "    },\n",
       "    \n",
       "    function(Bokeh) {\n",
       "      \n",
       "    },\n",
       "    function(Bokeh) {\n",
       "      console.log(\"Bokeh: injecting CSS: https://cdn.pydata.org/bokeh/release/bokeh-1.0.4.min.css\");\n",
       "      Bokeh.embed.inject_css(\"https://cdn.pydata.org/bokeh/release/bokeh-1.0.4.min.css\");\n",
       "      console.log(\"Bokeh: injecting CSS: https://cdn.pydata.org/bokeh/release/bokeh-widgets-1.0.4.min.css\");\n",
       "      Bokeh.embed.inject_css(\"https://cdn.pydata.org/bokeh/release/bokeh-widgets-1.0.4.min.css\");\n",
       "      console.log(\"Bokeh: injecting CSS: https://cdn.pydata.org/bokeh/release/bokeh-tables-1.0.4.min.css\");\n",
       "      Bokeh.embed.inject_css(\"https://cdn.pydata.org/bokeh/release/bokeh-tables-1.0.4.min.css\");\n",
       "    }\n",
       "  ];\n",
       "\n",
       "  function run_inline_js() {\n",
       "    \n",
       "    if ((root.Bokeh !== undefined) || (force === true)) {\n",
       "      for (var i = 0; i < inline_js.length; i++) {\n",
       "        inline_js[i].call(root, root.Bokeh);\n",
       "      }if (force === true) {\n",
       "        display_loaded();\n",
       "      }} else if (Date.now() < root._bokeh_timeout) {\n",
       "      setTimeout(run_inline_js, 100);\n",
       "    } else if (!root._bokeh_failed_load) {\n",
       "      console.log(\"Bokeh: BokehJS failed to load within specified timeout.\");\n",
       "      root._bokeh_failed_load = true;\n",
       "    } else if (force !== true) {\n",
       "      var cell = $(document.getElementById(\"1001\")).parents('.cell').data().cell;\n",
       "      cell.output_area.append_execute_result(NB_LOAD_WARNING)\n",
       "    }\n",
       "\n",
       "  }\n",
       "\n",
       "  if (root._bokeh_is_loading === 0) {\n",
       "    console.log(\"Bokeh: BokehJS loaded, going straight to plotting\");\n",
       "    run_inline_js();\n",
       "  } else {\n",
       "    load_libs(js_urls, function() {\n",
       "      console.log(\"Bokeh: BokehJS plotting callback run at\", now());\n",
       "      run_inline_js();\n",
       "    });\n",
       "  }\n",
       "}(window));"
      ],
      "application/vnd.bokehjs_load.v0+json": "\n(function(root) {\n  function now() {\n    return new Date();\n  }\n\n  var force = true;\n\n  if (typeof (root._bokeh_onload_callbacks) === \"undefined\" || force === true) {\n    root._bokeh_onload_callbacks = [];\n    root._bokeh_is_loading = undefined;\n  }\n\n  \n\n  \n  if (typeof (root._bokeh_timeout) === \"undefined\" || force === true) {\n    root._bokeh_timeout = Date.now() + 5000;\n    root._bokeh_failed_load = false;\n  }\n\n  var NB_LOAD_WARNING = {'data': {'text/html':\n     \"<div style='background-color: #fdd'>\\n\"+\n     \"<p>\\n\"+\n     \"BokehJS does not appear to have successfully loaded. If loading BokehJS from CDN, this \\n\"+\n     \"may be due to a slow or bad network connection. Possible fixes:\\n\"+\n     \"</p>\\n\"+\n     \"<ul>\\n\"+\n     \"<li>re-rerun `output_notebook()` to attempt to load from CDN again, or</li>\\n\"+\n     \"<li>use INLINE resources instead, as so:</li>\\n\"+\n     \"</ul>\\n\"+\n     \"<code>\\n\"+\n     \"from bokeh.resources import INLINE\\n\"+\n     \"output_notebook(resources=INLINE)\\n\"+\n     \"</code>\\n\"+\n     \"</div>\"}};\n\n  function display_loaded() {\n    var el = document.getElementById(\"1001\");\n    if (el != null) {\n      el.textContent = \"BokehJS is loading...\";\n    }\n    if (root.Bokeh !== undefined) {\n      if (el != null) {\n        el.textContent = \"BokehJS \" + root.Bokeh.version + \" successfully loaded.\";\n      }\n    } else if (Date.now() < root._bokeh_timeout) {\n      setTimeout(display_loaded, 100)\n    }\n  }\n\n\n  function run_callbacks() {\n    try {\n      root._bokeh_onload_callbacks.forEach(function(callback) { callback() });\n    }\n    finally {\n      delete root._bokeh_onload_callbacks\n    }\n    console.info(\"Bokeh: all callbacks have finished\");\n  }\n\n  function load_libs(js_urls, callback) {\n    root._bokeh_onload_callbacks.push(callback);\n    if (root._bokeh_is_loading > 0) {\n      console.log(\"Bokeh: BokehJS is being loaded, scheduling callback at\", now());\n      return null;\n    }\n    if (js_urls == null || js_urls.length === 0) {\n      run_callbacks();\n      return null;\n    }\n    console.log(\"Bokeh: BokehJS not loaded, scheduling load and callback at\", now());\n    root._bokeh_is_loading = js_urls.length;\n    for (var i = 0; i < js_urls.length; i++) {\n      var url = js_urls[i];\n      var s = document.createElement('script');\n      s.src = url;\n      s.async = false;\n      s.onreadystatechange = s.onload = function() {\n        root._bokeh_is_loading--;\n        if (root._bokeh_is_loading === 0) {\n          console.log(\"Bokeh: all BokehJS libraries loaded\");\n          run_callbacks()\n        }\n      };\n      s.onerror = function() {\n        console.warn(\"failed to load library \" + url);\n      };\n      console.log(\"Bokeh: injecting script tag for BokehJS library: \", url);\n      document.getElementsByTagName(\"head\")[0].appendChild(s);\n    }\n  };var element = document.getElementById(\"1001\");\n  if (element == null) {\n    console.log(\"Bokeh: ERROR: autoload.js configured with elementid '1001' but no matching script tag was found. \")\n    return false;\n  }\n\n  var js_urls = [\"https://cdn.pydata.org/bokeh/release/bokeh-1.0.4.min.js\", \"https://cdn.pydata.org/bokeh/release/bokeh-widgets-1.0.4.min.js\", \"https://cdn.pydata.org/bokeh/release/bokeh-tables-1.0.4.min.js\", \"https://cdn.pydata.org/bokeh/release/bokeh-gl-1.0.4.min.js\"];\n\n  var inline_js = [\n    function(Bokeh) {\n      Bokeh.set_log_level(\"info\");\n    },\n    \n    function(Bokeh) {\n      \n    },\n    function(Bokeh) {\n      console.log(\"Bokeh: injecting CSS: https://cdn.pydata.org/bokeh/release/bokeh-1.0.4.min.css\");\n      Bokeh.embed.inject_css(\"https://cdn.pydata.org/bokeh/release/bokeh-1.0.4.min.css\");\n      console.log(\"Bokeh: injecting CSS: https://cdn.pydata.org/bokeh/release/bokeh-widgets-1.0.4.min.css\");\n      Bokeh.embed.inject_css(\"https://cdn.pydata.org/bokeh/release/bokeh-widgets-1.0.4.min.css\");\n      console.log(\"Bokeh: injecting CSS: https://cdn.pydata.org/bokeh/release/bokeh-tables-1.0.4.min.css\");\n      Bokeh.embed.inject_css(\"https://cdn.pydata.org/bokeh/release/bokeh-tables-1.0.4.min.css\");\n    }\n  ];\n\n  function run_inline_js() {\n    \n    if ((root.Bokeh !== undefined) || (force === true)) {\n      for (var i = 0; i < inline_js.length; i++) {\n        inline_js[i].call(root, root.Bokeh);\n      }if (force === true) {\n        display_loaded();\n      }} else if (Date.now() < root._bokeh_timeout) {\n      setTimeout(run_inline_js, 100);\n    } else if (!root._bokeh_failed_load) {\n      console.log(\"Bokeh: BokehJS failed to load within specified timeout.\");\n      root._bokeh_failed_load = true;\n    } else if (force !== true) {\n      var cell = $(document.getElementById(\"1001\")).parents('.cell').data().cell;\n      cell.output_area.append_execute_result(NB_LOAD_WARNING)\n    }\n\n  }\n\n  if (root._bokeh_is_loading === 0) {\n    console.log(\"Bokeh: BokehJS loaded, going straight to plotting\");\n    run_inline_js();\n  } else {\n    load_libs(js_urls, function() {\n      console.log(\"Bokeh: BokehJS plotting callback run at\", now());\n      run_inline_js();\n    });\n  }\n}(window));"
     },
     "metadata": {},
     "output_type": "display_data"
    }
   ],
   "source": [
    "from bokeh.io import output_notebook, show\n",
    "\n",
    "output_notebook()"
   ]
  },
  {
   "cell_type": "code",
   "execution_count": 32,
   "metadata": {},
   "outputs": [],
   "source": [
    "import pandas as pd\n",
    "from sklearn.manifold import TSNE # 100 차원 임베딩을 사람이 인지할 수 있도록 차원축소가 필요, TSNE: 단어 임베딩과 잘 맞는 차원축소 기법\n",
    "from bokeh.plotting import figure\n",
    "from bokeh.models import LinearColorMapper, ColumnDataSource, LabelSet\n",
    "\n",
    "def visualize_words(words, vecs, palette=\"Viridis256\"):\n",
    "    tsne = TSNE(n_components=2)\n",
    "    tsne_results = tsne.fit_transform(vecs)\n",
    "    df = pd.DataFrame(columns=['x', 'y', 'word'])\n",
    "    df['x'], df['y'], df['word'] = tsne_results[:, 0], tsne_results[:, 1], list(words)\n",
    "    source = ColumnDataSource(ColumnDataSource.from_df(df))\n",
    "    labels = LabelSet(x=\"x\", y=\"y\", text=\"word\", y_offset=8,\n",
    "                      text_font_size=\"15pt\", text_color=\"#555555\",\n",
    "                      source=source, text_align='center')\n",
    "    color_mapper = LinearColorMapper(palette=palette, low=min(tsne_results[:, 1]), high=max(tsne_results[:, 1]))\n",
    "    plot = figure(plot_width=800, plot_height=1000)\n",
    "    plot.scatter(\"x\", \"y\", size=12, source=source, color={'field': 'y', 'transform': color_mapper}, line_color=None,\n",
    "                 fill_alpha=0.8)\n",
    "    plot.add_layout(labels)\n",
    "    show(plot)"
   ]
  },
  {
   "cell_type": "code",
   "execution_count": 35,
   "metadata": {},
   "outputs": [
    {
     "data": {
      "text/html": [
       "\n",
       "\n",
       "\n",
       "\n",
       "\n",
       "\n",
       "  <div class=\"bk-root\" id=\"5b7be779-67b4-4143-8885-bb1a1f45cf57\" data-root-id=\"1227\"></div>\n"
      ]
     },
     "metadata": {},
     "output_type": "display_data"
    },
    {
     "data": {
      "application/javascript": [
       "(function(root) {\n",
       "  function embed_document(root) {\n",
       "    \n",
       "  var docs_json = {\"27e0cac3-da53-4e3a-be1d-f090718e0f53\":{\"roots\":{\"references\":[{\"attributes\":{\"below\":[{\"id\":\"1236\",\"type\":\"LinearAxis\"}],\"left\":[{\"id\":\"1241\",\"type\":\"LinearAxis\"}],\"plot_height\":1000,\"plot_width\":800,\"renderers\":[{\"id\":\"1236\",\"type\":\"LinearAxis\"},{\"id\":\"1240\",\"type\":\"Grid\"},{\"id\":\"1241\",\"type\":\"LinearAxis\"},{\"id\":\"1245\",\"type\":\"Grid\"},{\"id\":\"1254\",\"type\":\"BoxAnnotation\"},{\"id\":\"1264\",\"type\":\"GlyphRenderer\"},{\"id\":\"1224\",\"type\":\"LabelSet\"}],\"title\":{\"id\":\"1285\",\"type\":\"Title\"},\"toolbar\":{\"id\":\"1252\",\"type\":\"Toolbar\"},\"x_range\":{\"id\":\"1228\",\"type\":\"DataRange1d\"},\"x_scale\":{\"id\":\"1232\",\"type\":\"LinearScale\"},\"y_range\":{\"id\":\"1230\",\"type\":\"DataRange1d\"},\"y_scale\":{\"id\":\"1234\",\"type\":\"LinearScale\"}},\"id\":\"1227\",\"subtype\":\"Figure\",\"type\":\"Plot\"},{\"attributes\":{\"dimension\":1,\"plot\":{\"id\":\"1227\",\"subtype\":\"Figure\",\"type\":\"Plot\"},\"ticker\":{\"id\":\"1242\",\"type\":\"BasicTicker\"}},\"id\":\"1245\",\"type\":\"Grid\"},{\"attributes\":{},\"id\":\"1249\",\"type\":\"SaveTool\"},{\"attributes\":{\"data_source\":{\"id\":\"1223\",\"type\":\"ColumnDataSource\"},\"glyph\":{\"id\":\"1262\",\"type\":\"Scatter\"},\"hover_glyph\":null,\"muted_glyph\":null,\"nonselection_glyph\":{\"id\":\"1263\",\"type\":\"Scatter\"},\"selection_glyph\":null,\"view\":{\"id\":\"1265\",\"type\":\"CDSView\"}},\"id\":\"1264\",\"type\":\"GlyphRenderer\"},{\"attributes\":{\"plot\":{\"id\":\"1227\",\"subtype\":\"Figure\",\"type\":\"Plot\"},\"ticker\":{\"id\":\"1237\",\"type\":\"BasicTicker\"}},\"id\":\"1240\",\"type\":\"Grid\"},{\"attributes\":{\"formatter\":{\"id\":\"1288\",\"type\":\"BasicTickFormatter\"},\"plot\":{\"id\":\"1227\",\"subtype\":\"Figure\",\"type\":\"Plot\"},\"ticker\":{\"id\":\"1242\",\"type\":\"BasicTicker\"}},\"id\":\"1241\",\"type\":\"LinearAxis\"},{\"attributes\":{},\"id\":\"1246\",\"type\":\"PanTool\"},{\"attributes\":{},\"id\":\"1242\",\"type\":\"BasicTicker\"},{\"attributes\":{},\"id\":\"1237\",\"type\":\"BasicTicker\"},{\"attributes\":{\"fill_alpha\":{\"value\":0.8},\"fill_color\":{\"field\":\"y\",\"transform\":{\"id\":\"1226\",\"type\":\"LinearColorMapper\"}},\"line_color\":{\"value\":null},\"size\":{\"units\":\"screen\",\"value\":12},\"x\":{\"field\":\"x\"},\"y\":{\"field\":\"y\"}},\"id\":\"1262\",\"type\":\"Scatter\"},{\"attributes\":{\"plot\":null,\"text\":\"\"},\"id\":\"1285\",\"type\":\"Title\"},{\"attributes\":{},\"id\":\"1250\",\"type\":\"ResetTool\"},{\"attributes\":{\"active_drag\":\"auto\",\"active_inspect\":\"auto\",\"active_multi\":null,\"active_scroll\":\"auto\",\"active_tap\":\"auto\",\"tools\":[{\"id\":\"1246\",\"type\":\"PanTool\"},{\"id\":\"1247\",\"type\":\"WheelZoomTool\"},{\"id\":\"1248\",\"type\":\"BoxZoomTool\"},{\"id\":\"1249\",\"type\":\"SaveTool\"},{\"id\":\"1250\",\"type\":\"ResetTool\"},{\"id\":\"1251\",\"type\":\"HelpTool\"}]},\"id\":\"1252\",\"type\":\"Toolbar\"},{\"attributes\":{\"callback\":null},\"id\":\"1230\",\"type\":\"DataRange1d\"},{\"attributes\":{},\"id\":\"1251\",\"type\":\"HelpTool\"},{\"attributes\":{\"fill_alpha\":{\"value\":0.1},\"fill_color\":{\"value\":\"#1f77b4\"},\"line_alpha\":{\"value\":0.1},\"line_color\":{\"value\":\"#1f77b4\"},\"size\":{\"units\":\"screen\",\"value\":12},\"x\":{\"field\":\"x\"},\"y\":{\"field\":\"y\"}},\"id\":\"1263\",\"type\":\"Scatter\"},{\"attributes\":{\"bottom_units\":\"screen\",\"fill_alpha\":{\"value\":0.5},\"fill_color\":{\"value\":\"lightgrey\"},\"left_units\":\"screen\",\"level\":\"overlay\",\"line_alpha\":{\"value\":1.0},\"line_color\":{\"value\":\"black\"},\"line_dash\":[4,4],\"line_width\":{\"value\":2},\"plot\":null,\"render_mode\":\"css\",\"right_units\":\"screen\",\"top_units\":\"screen\"},\"id\":\"1254\",\"type\":\"BoxAnnotation\"},{\"attributes\":{\"callback\":null},\"id\":\"1228\",\"type\":\"DataRange1d\"},{\"attributes\":{},\"id\":\"1291\",\"type\":\"Selection\"},{\"attributes\":{\"source\":{\"id\":\"1223\",\"type\":\"ColumnDataSource\"}},\"id\":\"1265\",\"type\":\"CDSView\"},{\"attributes\":{\"high\":2.735565423965454,\"low\":-5.651316165924072,\"palette\":[\"#440154\",\"#440255\",\"#440357\",\"#450558\",\"#45065A\",\"#45085B\",\"#46095C\",\"#460B5E\",\"#460C5F\",\"#460E61\",\"#470F62\",\"#471163\",\"#471265\",\"#471466\",\"#471567\",\"#471669\",\"#47186A\",\"#48196B\",\"#481A6C\",\"#481C6E\",\"#481D6F\",\"#481E70\",\"#482071\",\"#482172\",\"#482273\",\"#482374\",\"#472575\",\"#472676\",\"#472777\",\"#472878\",\"#472A79\",\"#472B7A\",\"#472C7B\",\"#462D7C\",\"#462F7C\",\"#46307D\",\"#46317E\",\"#45327F\",\"#45347F\",\"#453580\",\"#453681\",\"#443781\",\"#443982\",\"#433A83\",\"#433B83\",\"#433C84\",\"#423D84\",\"#423E85\",\"#424085\",\"#414186\",\"#414286\",\"#404387\",\"#404487\",\"#3F4587\",\"#3F4788\",\"#3E4888\",\"#3E4989\",\"#3D4A89\",\"#3D4B89\",\"#3D4C89\",\"#3C4D8A\",\"#3C4E8A\",\"#3B508A\",\"#3B518A\",\"#3A528B\",\"#3A538B\",\"#39548B\",\"#39558B\",\"#38568B\",\"#38578C\",\"#37588C\",\"#37598C\",\"#365A8C\",\"#365B8C\",\"#355C8C\",\"#355D8C\",\"#345E8D\",\"#345F8D\",\"#33608D\",\"#33618D\",\"#32628D\",\"#32638D\",\"#31648D\",\"#31658D\",\"#31668D\",\"#30678D\",\"#30688D\",\"#2F698D\",\"#2F6A8D\",\"#2E6B8E\",\"#2E6C8E\",\"#2E6D8E\",\"#2D6E8E\",\"#2D6F8E\",\"#2C708E\",\"#2C718E\",\"#2C728E\",\"#2B738E\",\"#2B748E\",\"#2A758E\",\"#2A768E\",\"#2A778E\",\"#29788E\",\"#29798E\",\"#287A8E\",\"#287A8E\",\"#287B8E\",\"#277C8E\",\"#277D8E\",\"#277E8E\",\"#267F8E\",\"#26808E\",\"#26818E\",\"#25828E\",\"#25838D\",\"#24848D\",\"#24858D\",\"#24868D\",\"#23878D\",\"#23888D\",\"#23898D\",\"#22898D\",\"#228A8D\",\"#228B8D\",\"#218C8D\",\"#218D8C\",\"#218E8C\",\"#208F8C\",\"#20908C\",\"#20918C\",\"#1F928C\",\"#1F938B\",\"#1F948B\",\"#1F958B\",\"#1F968B\",\"#1E978A\",\"#1E988A\",\"#1E998A\",\"#1E998A\",\"#1E9A89\",\"#1E9B89\",\"#1E9C89\",\"#1E9D88\",\"#1E9E88\",\"#1E9F88\",\"#1EA087\",\"#1FA187\",\"#1FA286\",\"#1FA386\",\"#20A485\",\"#20A585\",\"#21A685\",\"#21A784\",\"#22A784\",\"#23A883\",\"#23A982\",\"#24AA82\",\"#25AB81\",\"#26AC81\",\"#27AD80\",\"#28AE7F\",\"#29AF7F\",\"#2AB07E\",\"#2BB17D\",\"#2CB17D\",\"#2EB27C\",\"#2FB37B\",\"#30B47A\",\"#32B57A\",\"#33B679\",\"#35B778\",\"#36B877\",\"#38B976\",\"#39B976\",\"#3BBA75\",\"#3DBB74\",\"#3EBC73\",\"#40BD72\",\"#42BE71\",\"#44BE70\",\"#45BF6F\",\"#47C06E\",\"#49C16D\",\"#4BC26C\",\"#4DC26B\",\"#4FC369\",\"#51C468\",\"#53C567\",\"#55C666\",\"#57C665\",\"#59C764\",\"#5BC862\",\"#5EC961\",\"#60C960\",\"#62CA5F\",\"#64CB5D\",\"#67CC5C\",\"#69CC5B\",\"#6BCD59\",\"#6DCE58\",\"#70CE56\",\"#72CF55\",\"#74D054\",\"#77D052\",\"#79D151\",\"#7CD24F\",\"#7ED24E\",\"#81D34C\",\"#83D34B\",\"#86D449\",\"#88D547\",\"#8BD546\",\"#8DD644\",\"#90D643\",\"#92D741\",\"#95D73F\",\"#97D83E\",\"#9AD83C\",\"#9DD93A\",\"#9FD938\",\"#A2DA37\",\"#A5DA35\",\"#A7DB33\",\"#AADB32\",\"#ADDC30\",\"#AFDC2E\",\"#B2DD2C\",\"#B5DD2B\",\"#B7DD29\",\"#BADE27\",\"#BDDE26\",\"#BFDF24\",\"#C2DF22\",\"#C5DF21\",\"#C7E01F\",\"#CAE01E\",\"#CDE01D\",\"#CFE11C\",\"#D2E11B\",\"#D4E11A\",\"#D7E219\",\"#DAE218\",\"#DCE218\",\"#DFE318\",\"#E1E318\",\"#E4E318\",\"#E7E419\",\"#E9E419\",\"#ECE41A\",\"#EEE51B\",\"#F1E51C\",\"#F3E51E\",\"#F6E61F\",\"#F8E621\",\"#FAE622\",\"#FDE724\"]},\"id\":\"1226\",\"type\":\"LinearColorMapper\"},{\"attributes\":{},\"id\":\"1288\",\"type\":\"BasicTickFormatter\"},{\"attributes\":{},\"id\":\"1232\",\"type\":\"LinearScale\"},{\"attributes\":{},\"id\":\"1286\",\"type\":\"BasicTickFormatter\"},{\"attributes\":{},\"id\":\"1247\",\"type\":\"WheelZoomTool\"},{\"attributes\":{\"callback\":null,\"data\":{\"index\":[0,1,2,3,4,5,6,7,8,9,10,11,12,13,14,15,16,17,18,19,20,21,22,23,24,25,26,27,28,29,30,31,32,33,34,35,36,37,38,39,40,41,42,43,44,45,46,47,48,49,50,51,52,53,54,55,56,57,58,59,60,61,62,63,64,65,66,67,68,69,70,71,72,73,74,75,76,77,78,79,80,81,82,83,84,85,86,87,88,89,90,91,92,93,94,95,96,97,98,99],\"word\":[\"\\uc791\\ub144\",\"\\uadc0\",\"hacking\",\"\\ub5a0\",\"\\ubc95\",\"\\u3161\",\"\\uae30\\ub300\",\"\\ub0b4\\ub824\\uac00\",\"\\uc804\\uc1a1\",\"\\uc5bc\\ub9c8\",\"\\uac78\\ub85c\",\"\\ub18b\",\"\\uc870\\uc0ac\",\"\\uc644\\uc131\\ub3c4\",\"\\ubc18\\ub0a9\",\"\\ub124\\ube44\",\"\\uc62c\\ub824\",\"\\ud604\\uae08\",\"\\u315c\\u315c\",\"\\uc2dc\\uacc4\",\"\\ud544\\uae30\",\"\\ube44\\uc728\",\"\\uc635\\uc158\",\"\\ud074\\ub9ad\",\"\\ub41c\\ub2e4\\uace0\",\"\\uc124\\uce58\",\"\\uc0ac\\uace0\",\"\\ub9c1\\ud06c\",\"Z\",\"\\ub2f9\\uc2dc\",\"\\ub77c\\uc774\\ud2b8\",\"\\uc758\\uacac\",\"\\uc0dd\\uac01\\ub098\",\"\\uc989\",\"\\uacf5\\uc720\",\"\\ub808\\uace0\",\"\\uc77c\\ubd80\\ub7ec\",\"\\ube60\\uc9c4\",\"\\ud798\\ub4e0\",\"\\uc73c\\uc2dc\",\"\\uc0c9\",\"\\ub3d9\\uc548\",\"\\ub294\\uc9c0\\ub77c\",\"\\ub54c\",\"\\uacf5\\uc2dd\",\"\\ud574\\uc84c\",\"\\uc7a5\\ub09c\",\"\\ud560\\ud150\\ub370\",\"\\uc9c0\\uc694\",\"\\ud588\\uc5b4\\uc694\",\"\\uc789\",\"\\uc5b4\\ub77c\",\"\\uc5d0\\ucf54\",\"\\ub09c\\ub9ac\",\"\\uc2a4\\ub0c5\\ub4dc\\ub798\\uace4\",\"\\uc774\\uc678\",\"\\uace0\",\"\\uba54\\uc2dc\\uc9c0\",\"\\uc5f0\\uc7a5\",\"\\ubcfc\\ub968\",\"\\ubabb\\ud55c\",\"\\uae4c\\uc694\",\"\\ud55c\\ub9c8\\ub514\",\"\\uad50\\uccb4\",\"\\uc77c\\uc9c0\",\"\\uc5c6\",\"\\uae30\\uc2a4\",\"\\uc678\\uad00\",\"\\ub808\",\"\\uadf8\\uac8c\",\"\\uc720\\uba85\",\"\\uacf5\\uae30\",\"\\u3134\",\"\\uc0c8\\ub85c\",\"\\uc9c0\\ub3c4\",\"\\ub9e8\\ub0a0\",\"\\uad00\\uacc4\",\"\\ucc98\\uc74c\",\"\\uc815\\ubcf4\",\"\\uc774\\uac70\",\"\\uc8fc\\ubcc0\",\"\\ud074\\ub7ed\",\"\\ub2f9\\uc5f0\\ud788\",\"\\ud544\\ub984\",\"\\ub0b4\\uc77c\",\"\\uc5f0\\uacb0\",\"\\uae08\",\"\\ubcf4\\uc870\\uae08\",\"\\uc2dc\\ucf30\",\"\\uc880\",\"\\uce90\",\"\\uc62c\\ub824\\uc57c\",\"\\uc158\",\"\\uc774\\ub791\",\"\\uc544\\uae5d\",\"\\uac10\",\"\\ud3b8\\ud55c\",\"\\uadf8\\ub7fc\",\"\\ud601\\uc2e0\",\"\\ub290\\ub0d0\"],\"x\":{\"__ndarray__\":\"xu33P4L6mkA3dPBAcUqYvogYdkA4S1FA6QHDPx73kr7yNLNAmlWwvnB/LT5zNx1Ay00/QLaVK0CpYXg+6/umQFSrx0AEGxm8LqFJQHHPmEDYhqFA5rNzQA7CkkAwF71AKL1QP/EWukCrbAFAxjzaQBjZVkDGXg5A3DmsQM+PCkCC7U4/W8VMQIDGzUD9WQtAojw8QM44uEBQKqNAMVqNQCmIwEAMas8/QBjsP1Eu/D9CHCRAbHVoQEv7M0BcGc8/ZMjcPzwQYkAiCmdAyn8eQB5NMT/gxh5ADlBmQK13b0B4kBlAFM61QLy3Nj/SqpVAcL2kQIlN9T8cW1FAJ16VPkAAsUB9vohASGHeQCNmtkC+0XJAhitTQAZYaEB6Fl0/BXRyQLnxtj+Pio1AOI8mQMvBZECpvv8/c6rkQL+fQ0CMm4pAJtBxQAewPUAqz81AQhhVP4dUskCo3Ly+HrQxv9vbX0CyJTxAbMZnQPM+vUCNk8BAvK7NQO176z/+EyFAMSyhQIshPEDLFh1AVWl3Pw==\",\"dtype\":\"float32\",\"shape\":[100]},\"y\":{\"__ndarray__\":\"d2cAwGF0nL951o3A65MfvwY8OcDvyVK8lQx4wOWYCr+xVWrAblT8Pi5o5j/Ws6G/OO4iwOD+d8CJbg/AZQQqwG1DpsAvt/S/O8v6vUXlGsCoFzrAY4SHwByPVsA5NIfAI1DSPxBHicCHehy/OC+EwOqqa8CglRDA2JIWwPgViMD4wmK+EV7bv+5mgsBJHbm+44J1v/Lzq74IExk9pe/BP2z5ob+xs2K/6QYgPhSoEcBbKi/AgRMvQNuftz9J1E8/StyTPk5XH0BLqY8+at3zvbxS978WqpI/jXGQwEjJ679NDV6+XXhRwH6rOsDKqXnAXVwSPyYq/z74++C/PRBJwH3pvz+h1B+/oPopv71dlb+g01o/ST8/v2ixGcC68We/Il6uPvtZpr+HMfi/BQKUvjE65794wN2/ufNjwFQr+b4dlJq/0DaXwIFurb+cUH+//gjkv7DneMDq99u/Nq0CwFTZHkAfZ1g/2ux3PZXXtMBJ4xHAUiJYP88Y/D8YEKPAmGOKvhCvc799U2vAcTEcPw==\",\"dtype\":\"float32\",\"shape\":[100]}},\"selected\":{\"id\":\"1291\",\"type\":\"Selection\"},\"selection_policy\":{\"id\":\"1290\",\"type\":\"UnionRenderers\"}},\"id\":\"1223\",\"type\":\"ColumnDataSource\"},{\"attributes\":{\"plot\":{\"id\":\"1227\",\"subtype\":\"Figure\",\"type\":\"Plot\"},\"source\":{\"id\":\"1223\",\"type\":\"ColumnDataSource\"},\"text\":{\"field\":\"word\"},\"text_align\":\"center\",\"text_color\":{\"value\":\"#555555\"},\"text_font_size\":{\"value\":\"15pt\"},\"x\":{\"field\":\"x\"},\"y\":{\"field\":\"y\"},\"y_offset\":{\"value\":8}},\"id\":\"1224\",\"type\":\"LabelSet\"},{\"attributes\":{},\"id\":\"1234\",\"type\":\"LinearScale\"},{\"attributes\":{},\"id\":\"1290\",\"type\":\"UnionRenderers\"},{\"attributes\":{\"overlay\":{\"id\":\"1254\",\"type\":\"BoxAnnotation\"}},\"id\":\"1248\",\"type\":\"BoxZoomTool\"},{\"attributes\":{\"formatter\":{\"id\":\"1286\",\"type\":\"BasicTickFormatter\"},\"plot\":{\"id\":\"1227\",\"subtype\":\"Figure\",\"type\":\"Plot\"},\"ticker\":{\"id\":\"1237\",\"type\":\"BasicTicker\"}},\"id\":\"1236\",\"type\":\"LinearAxis\"}],\"root_ids\":[\"1227\"]},\"title\":\"Bokeh Application\",\"version\":\"1.0.4\"}};\n",
       "  var render_items = [{\"docid\":\"27e0cac3-da53-4e3a-be1d-f090718e0f53\",\"roots\":{\"1227\":\"5b7be779-67b4-4143-8885-bb1a1f45cf57\"}}];\n",
       "  root.Bokeh.embed.embed_items_notebook(docs_json, render_items);\n",
       "\n",
       "  }\n",
       "  if (root.Bokeh !== undefined) {\n",
       "    embed_document(root);\n",
       "  } else {\n",
       "    var attempts = 0;\n",
       "    var timer = setInterval(function(root) {\n",
       "      if (root.Bokeh !== undefined) {\n",
       "        embed_document(root);\n",
       "        clearInterval(timer);\n",
       "      }\n",
       "      attempts++;\n",
       "      if (attempts > 100) {\n",
       "        console.log(\"Bokeh: ERROR: Unable to run BokehJS code because BokehJS library is missing\");\n",
       "        clearInterval(timer);\n",
       "      }\n",
       "    }, 10, root)\n",
       "  }\n",
       "})(window);"
      ],
      "application/vnd.bokehjs_exec.v0+json": ""
     },
     "metadata": {
      "application/vnd.bokehjs_exec.v0+json": {
       "id": "1227"
      }
     },
     "output_type": "display_data"
    }
   ],
   "source": [
    "import random\n",
    "words = random.sample(vocab[:3000], 100) # 최빈 3000 개 단어 중에 100개를 sampling 해라\n",
    "vecs = [embedding_model.wv[word] for word in words]\n",
    "visualize_words(words, vecs)"
   ]
  },
  {
   "cell_type": "code",
   "execution_count": 38,
   "metadata": {},
   "outputs": [],
   "source": [
    "import numpy as np\n",
    "from sklearn.metrics.pairwise import cosine_similarity\n",
    "from bokeh.models import ColorBar, BasicTicker\n",
    "\n",
    "def visualize_between_words(words, vecs, palette=\"Viridis256\"):\n",
    "    df_list = []\n",
    "    for word1_idx, word1 in enumerate(words):\n",
    "        for word2_idx, word2 in enumerate(words):\n",
    "            vec1 = vecs[word1_idx]\n",
    "            vec2 = vecs[word2_idx]\n",
    "            if np.any(vec1) and np.any(vec2):\n",
    "                score = cosine_similarity(X=[vec1], Y=[vec2])\n",
    "                df_list.append({'x': word1, 'y': word2, 'similarity': score[0][0]})\n",
    "    df = pd.DataFrame(df_list)\n",
    "    color_mapper = LinearColorMapper(palette=palette, low=1, high=0)\n",
    "    TOOLS = \"hover,save,pan,box_zoom,reset,wheel_zoom\"\n",
    "    p = figure(x_range=list(words), y_range=list(reversed(list(words))),\n",
    "               x_axis_location=\"above\", plot_width=900, plot_height=900,\n",
    "               toolbar_location='below', tools=TOOLS,\n",
    "               tooltips=[('words', '@x @y'), ('similarity', '@similarity')])\n",
    "    p.grid.grid_line_color = None\n",
    "    p.axis.axis_line_color = None\n",
    "    p.axis.major_tick_line_color = None\n",
    "    p.axis.major_label_standoff = 0\n",
    "    p.xaxis.major_label_orientation = 3.14 / 3\n",
    "    p.rect(x=\"x\", y=\"y\", width=1, height=1,\n",
    "           source=df,\n",
    "           fill_color={'field': 'similarity', 'transform': color_mapper},\n",
    "           line_color=None)\n",
    "    color_bar = ColorBar(ticker=BasicTicker(desired_num_ticks=5),\n",
    "                         color_mapper=color_mapper, major_label_text_font_size=\"7pt\",\n",
    "                         label_standoff=6, border_line_color=None, location=(0, 0))\n",
    "    p.add_layout(color_bar, 'right')\n",
    "    show(p)"
   ]
  },
  {
   "cell_type": "code",
   "execution_count": 39,
   "metadata": {},
   "outputs": [
    {
     "data": {
      "text/html": [
       "\n",
       "\n",
       "\n",
       "\n",
       "\n",
       "\n",
       "  <div class=\"bk-root\" id=\"abe46ced-3ff3-46f1-9d17-09308bb996c5\" data-root-id=\"1481\"></div>\n"
      ]
     },
     "metadata": {},
     "output_type": "display_data"
    },
    {
     "data": {
      "application/javascript": [
       "(function(root) {\n",
       "  function embed_document(root) {\n",
       "    \n",
       "  var docs_json = {\"cdd9ea95-49e4-4106-a7ff-82a8e1b549de\":{\"roots\":{\"references\":[{\"attributes\":{\"above\":[{\"id\":\"1490\",\"type\":\"CategoricalAxis\"}],\"left\":[{\"id\":\"1494\",\"type\":\"CategoricalAxis\"}],\"plot_height\":900,\"plot_width\":900,\"renderers\":[{\"id\":\"1490\",\"type\":\"CategoricalAxis\"},{\"id\":\"1493\",\"type\":\"Grid\"},{\"id\":\"1494\",\"type\":\"CategoricalAxis\"},{\"id\":\"1497\",\"type\":\"Grid\"},{\"id\":\"1507\",\"type\":\"BoxAnnotation\"},{\"id\":\"1517\",\"type\":\"GlyphRenderer\"},{\"id\":\"1520\",\"type\":\"ColorBar\"}],\"right\":[{\"id\":\"1520\",\"type\":\"ColorBar\"}],\"title\":{\"id\":\"1559\",\"type\":\"Title\"},\"toolbar\":{\"id\":\"1504\",\"type\":\"Toolbar\"},\"toolbar_location\":\"below\",\"x_range\":{\"id\":\"1482\",\"type\":\"FactorRange\"},\"x_scale\":{\"id\":\"1486\",\"type\":\"CategoricalScale\"},\"y_range\":{\"id\":\"1484\",\"type\":\"FactorRange\"},\"y_scale\":{\"id\":\"1488\",\"type\":\"CategoricalScale\"}},\"id\":\"1481\",\"subtype\":\"Figure\",\"type\":\"Plot\"},{\"attributes\":{\"color_mapper\":{\"id\":\"1480\",\"type\":\"LinearColorMapper\"},\"formatter\":{\"id\":\"1564\",\"type\":\"BasicTickFormatter\"},\"label_standoff\":6,\"location\":[0,0],\"major_label_text_font_size\":{\"value\":\"7pt\"},\"plot\":{\"id\":\"1481\",\"subtype\":\"Figure\",\"type\":\"Plot\"},\"ticker\":{\"id\":\"1519\",\"type\":\"BasicTicker\"}},\"id\":\"1520\",\"type\":\"ColorBar\"},{\"attributes\":{},\"id\":\"1488\",\"type\":\"CategoricalScale\"},{\"attributes\":{},\"id\":\"1486\",\"type\":\"CategoricalScale\"},{\"attributes\":{\"data_source\":{\"id\":\"1513\",\"type\":\"ColumnDataSource\"},\"glyph\":{\"id\":\"1515\",\"type\":\"Rect\"},\"hover_glyph\":null,\"muted_glyph\":null,\"nonselection_glyph\":{\"id\":\"1516\",\"type\":\"Rect\"},\"selection_glyph\":null,\"view\":{\"id\":\"1518\",\"type\":\"CDSView\"}},\"id\":\"1517\",\"type\":\"GlyphRenderer\"},{\"attributes\":{},\"id\":\"1560\",\"type\":\"CategoricalTickFormatter\"},{\"attributes\":{\"callback\":null,\"factors\":[\"\\uc900\\ub2e4\\ub294\",\"\\ub0b4\\uc77c\",\"ics\",\"\\ubc18\\uc751\",\"\\ud0c0\\uc784\",\"\\uc9c0\\ub974\",\"\\ub294\\uc9c0\",\"\\uc804\\ubd80\",\"\\uc634\\ub2c8\\uc544\",\"\\ud035\",\"\\ud310\\ub9e4\\uc790\",\"\\uc774\\uac70\",\"\\uc544\\uc11c\",\"\\ub0b4\\uc694\",\"\\uc544\\ub9c8\\ub3c4\",\"\\ubd80\\ud305\",\"\\uc9d1\",\"\\uc778\",\"\\uae68\\ub057\",\"\\uc57c\\uc9c0\",\"\\uc5b4\\ub77c\",\"\\uae4c\\uc9c4\",\"\\ub098\\uc774\",\"\\uc6b0\\ub9ac\",\"\\ud504\",\"\\uace0\\uc694\",\"\\ub2f9\\ubd84\\uac04\",\"\\ub0d0\\uace0\",\"kr\",\"SK\"]},\"id\":\"1484\",\"type\":\"FactorRange\"},{\"attributes\":{},\"id\":\"1562\",\"type\":\"CategoricalTickFormatter\"},{\"attributes\":{\"high\":0,\"low\":1,\"palette\":[\"#440154\",\"#440255\",\"#440357\",\"#450558\",\"#45065A\",\"#45085B\",\"#46095C\",\"#460B5E\",\"#460C5F\",\"#460E61\",\"#470F62\",\"#471163\",\"#471265\",\"#471466\",\"#471567\",\"#471669\",\"#47186A\",\"#48196B\",\"#481A6C\",\"#481C6E\",\"#481D6F\",\"#481E70\",\"#482071\",\"#482172\",\"#482273\",\"#482374\",\"#472575\",\"#472676\",\"#472777\",\"#472878\",\"#472A79\",\"#472B7A\",\"#472C7B\",\"#462D7C\",\"#462F7C\",\"#46307D\",\"#46317E\",\"#45327F\",\"#45347F\",\"#453580\",\"#453681\",\"#443781\",\"#443982\",\"#433A83\",\"#433B83\",\"#433C84\",\"#423D84\",\"#423E85\",\"#424085\",\"#414186\",\"#414286\",\"#404387\",\"#404487\",\"#3F4587\",\"#3F4788\",\"#3E4888\",\"#3E4989\",\"#3D4A89\",\"#3D4B89\",\"#3D4C89\",\"#3C4D8A\",\"#3C4E8A\",\"#3B508A\",\"#3B518A\",\"#3A528B\",\"#3A538B\",\"#39548B\",\"#39558B\",\"#38568B\",\"#38578C\",\"#37588C\",\"#37598C\",\"#365A8C\",\"#365B8C\",\"#355C8C\",\"#355D8C\",\"#345E8D\",\"#345F8D\",\"#33608D\",\"#33618D\",\"#32628D\",\"#32638D\",\"#31648D\",\"#31658D\",\"#31668D\",\"#30678D\",\"#30688D\",\"#2F698D\",\"#2F6A8D\",\"#2E6B8E\",\"#2E6C8E\",\"#2E6D8E\",\"#2D6E8E\",\"#2D6F8E\",\"#2C708E\",\"#2C718E\",\"#2C728E\",\"#2B738E\",\"#2B748E\",\"#2A758E\",\"#2A768E\",\"#2A778E\",\"#29788E\",\"#29798E\",\"#287A8E\",\"#287A8E\",\"#287B8E\",\"#277C8E\",\"#277D8E\",\"#277E8E\",\"#267F8E\",\"#26808E\",\"#26818E\",\"#25828E\",\"#25838D\",\"#24848D\",\"#24858D\",\"#24868D\",\"#23878D\",\"#23888D\",\"#23898D\",\"#22898D\",\"#228A8D\",\"#228B8D\",\"#218C8D\",\"#218D8C\",\"#218E8C\",\"#208F8C\",\"#20908C\",\"#20918C\",\"#1F928C\",\"#1F938B\",\"#1F948B\",\"#1F958B\",\"#1F968B\",\"#1E978A\",\"#1E988A\",\"#1E998A\",\"#1E998A\",\"#1E9A89\",\"#1E9B89\",\"#1E9C89\",\"#1E9D88\",\"#1E9E88\",\"#1E9F88\",\"#1EA087\",\"#1FA187\",\"#1FA286\",\"#1FA386\",\"#20A485\",\"#20A585\",\"#21A685\",\"#21A784\",\"#22A784\",\"#23A883\",\"#23A982\",\"#24AA82\",\"#25AB81\",\"#26AC81\",\"#27AD80\",\"#28AE7F\",\"#29AF7F\",\"#2AB07E\",\"#2BB17D\",\"#2CB17D\",\"#2EB27C\",\"#2FB37B\",\"#30B47A\",\"#32B57A\",\"#33B679\",\"#35B778\",\"#36B877\",\"#38B976\",\"#39B976\",\"#3BBA75\",\"#3DBB74\",\"#3EBC73\",\"#40BD72\",\"#42BE71\",\"#44BE70\",\"#45BF6F\",\"#47C06E\",\"#49C16D\",\"#4BC26C\",\"#4DC26B\",\"#4FC369\",\"#51C468\",\"#53C567\",\"#55C666\",\"#57C665\",\"#59C764\",\"#5BC862\",\"#5EC961\",\"#60C960\",\"#62CA5F\",\"#64CB5D\",\"#67CC5C\",\"#69CC5B\",\"#6BCD59\",\"#6DCE58\",\"#70CE56\",\"#72CF55\",\"#74D054\",\"#77D052\",\"#79D151\",\"#7CD24F\",\"#7ED24E\",\"#81D34C\",\"#83D34B\",\"#86D449\",\"#88D547\",\"#8BD546\",\"#8DD644\",\"#90D643\",\"#92D741\",\"#95D73F\",\"#97D83E\",\"#9AD83C\",\"#9DD93A\",\"#9FD938\",\"#A2DA37\",\"#A5DA35\",\"#A7DB33\",\"#AADB32\",\"#ADDC30\",\"#AFDC2E\",\"#B2DD2C\",\"#B5DD2B\",\"#B7DD29\",\"#BADE27\",\"#BDDE26\",\"#BFDF24\",\"#C2DF22\",\"#C5DF21\",\"#C7E01F\",\"#CAE01E\",\"#CDE01D\",\"#CFE11C\",\"#D2E11B\",\"#D4E11A\",\"#D7E219\",\"#DAE218\",\"#DCE218\",\"#DFE318\",\"#E1E318\",\"#E4E318\",\"#E7E419\",\"#E9E419\",\"#ECE41A\",\"#EEE51B\",\"#F1E51C\",\"#F3E51E\",\"#F6E61F\",\"#F8E621\",\"#FAE622\",\"#FDE724\"]},\"id\":\"1480\",\"type\":\"LinearColorMapper\"},{\"attributes\":{\"callback\":null,\"factors\":[\"SK\",\"kr\",\"\\ub0d0\\uace0\",\"\\ub2f9\\ubd84\\uac04\",\"\\uace0\\uc694\",\"\\ud504\",\"\\uc6b0\\ub9ac\",\"\\ub098\\uc774\",\"\\uae4c\\uc9c4\",\"\\uc5b4\\ub77c\",\"\\uc57c\\uc9c0\",\"\\uae68\\ub057\",\"\\uc778\",\"\\uc9d1\",\"\\ubd80\\ud305\",\"\\uc544\\ub9c8\\ub3c4\",\"\\ub0b4\\uc694\",\"\\uc544\\uc11c\",\"\\uc774\\uac70\",\"\\ud310\\ub9e4\\uc790\",\"\\ud035\",\"\\uc634\\ub2c8\\uc544\",\"\\uc804\\ubd80\",\"\\ub294\\uc9c0\",\"\\uc9c0\\ub974\",\"\\ud0c0\\uc784\",\"\\ubc18\\uc751\",\"ics\",\"\\ub0b4\\uc77c\",\"\\uc900\\ub2e4\\ub294\"]},\"id\":\"1482\",\"type\":\"FactorRange\"},{\"attributes\":{\"bottom_units\":\"screen\",\"fill_alpha\":{\"value\":0.5},\"fill_color\":{\"value\":\"lightgrey\"},\"left_units\":\"screen\",\"level\":\"overlay\",\"line_alpha\":{\"value\":1.0},\"line_color\":{\"value\":\"black\"},\"line_dash\":[4,4],\"line_width\":{\"value\":2},\"plot\":null,\"render_mode\":\"css\",\"right_units\":\"screen\",\"top_units\":\"screen\"},\"id\":\"1507\",\"type\":\"BoxAnnotation\"},{\"attributes\":{},\"id\":\"1564\",\"type\":\"BasicTickFormatter\"},{\"attributes\":{\"overlay\":{\"id\":\"1507\",\"type\":\"BoxAnnotation\"}},\"id\":\"1501\",\"type\":\"BoxZoomTool\"},{\"attributes\":{},\"id\":\"1565\",\"type\":\"UnionRenderers\"},{\"attributes\":{\"callback\":null,\"tooltips\":[[\"words\",\"@x @y\"],[\"similarity\",\"@similarity\"]]},\"id\":\"1498\",\"type\":\"HoverTool\"},{\"attributes\":{},\"id\":\"1566\",\"type\":\"Selection\"},{\"attributes\":{},\"id\":\"1500\",\"type\":\"PanTool\"},{\"attributes\":{\"callback\":null,\"data\":{\"index\":[0,1,2,3,4,5,6,7,8,9,10,11,12,13,14,15,16,17,18,19,20,21,22,23,24,25,26,27,28,29,30,31,32,33,34,35,36,37,38,39,40,41,42,43,44,45,46,47,48,49,50,51,52,53,54,55,56,57,58,59,60,61,62,63,64,65,66,67,68,69,70,71,72,73,74,75,76,77,78,79,80,81,82,83,84,85,86,87,88,89,90,91,92,93,94,95,96,97,98,99,100,101,102,103,104,105,106,107,108,109,110,111,112,113,114,115,116,117,118,119,120,121,122,123,124,125,126,127,128,129,130,131,132,133,134,135,136,137,138,139,140,141,142,143,144,145,146,147,148,149,150,151,152,153,154,155,156,157,158,159,160,161,162,163,164,165,166,167,168,169,170,171,172,173,174,175,176,177,178,179,180,181,182,183,184,185,186,187,188,189,190,191,192,193,194,195,196,197,198,199,200,201,202,203,204,205,206,207,208,209,210,211,212,213,214,215,216,217,218,219,220,221,222,223,224,225,226,227,228,229,230,231,232,233,234,235,236,237,238,239,240,241,242,243,244,245,246,247,248,249,250,251,252,253,254,255,256,257,258,259,260,261,262,263,264,265,266,267,268,269,270,271,272,273,274,275,276,277,278,279,280,281,282,283,284,285,286,287,288,289,290,291,292,293,294,295,296,297,298,299,300,301,302,303,304,305,306,307,308,309,310,311,312,313,314,315,316,317,318,319,320,321,322,323,324,325,326,327,328,329,330,331,332,333,334,335,336,337,338,339,340,341,342,343,344,345,346,347,348,349,350,351,352,353,354,355,356,357,358,359,360,361,362,363,364,365,366,367,368,369,370,371,372,373,374,375,376,377,378,379,380,381,382,383,384,385,386,387,388,389,390,391,392,393,394,395,396,397,398,399,400,401,402,403,404,405,406,407,408,409,410,411,412,413,414,415,416,417,418,419,420,421,422,423,424,425,426,427,428,429,430,431,432,433,434,435,436,437,438,439,440,441,442,443,444,445,446,447,448,449,450,451,452,453,454,455,456,457,458,459,460,461,462,463,464,465,466,467,468,469,470,471,472,473,474,475,476,477,478,479,480,481,482,483,484,485,486,487,488,489,490,491,492,493,494,495,496,497,498,499,500,501,502,503,504,505,506,507,508,509,510,511,512,513,514,515,516,517,518,519,520,521,522,523,524,525,526,527,528,529,530,531,532,533,534,535,536,537,538,539,540,541,542,543,544,545,546,547,548,549,550,551,552,553,554,555,556,557,558,559,560,561,562,563,564,565,566,567,568,569,570,571,572,573,574,575,576,577,578,579,580,581,582,583,584,585,586,587,588,589,590,591,592,593,594,595,596,597,598,599,600,601,602,603,604,605,606,607,608,609,610,611,612,613,614,615,616,617,618,619,620,621,622,623,624,625,626,627,628,629,630,631,632,633,634,635,636,637,638,639,640,641,642,643,644,645,646,647,648,649,650,651,652,653,654,655,656,657,658,659,660,661,662,663,664,665,666,667,668,669,670,671,672,673,674,675,676,677,678,679,680,681,682,683,684,685,686,687,688,689,690,691,692,693,694,695,696,697,698,699,700,701,702,703,704,705,706,707,708,709,710,711,712,713,714,715,716,717,718,719,720,721,722,723,724,725,726,727,728,729,730,731,732,733,734,735,736,737,738,739,740,741,742,743,744,745,746,747,748,749,750,751,752,753,754,755,756,757,758,759,760,761,762,763,764,765,766,767,768,769,770,771,772,773,774,775,776,777,778,779,780,781,782,783,784,785,786,787,788,789,790,791,792,793,794,795,796,797,798,799,800,801,802,803,804,805,806,807,808,809,810,811,812,813,814,815,816,817,818,819,820,821,822,823,824,825,826,827,828,829,830,831,832,833,834,835,836,837,838,839,840,841,842,843,844,845,846,847,848,849,850,851,852,853,854,855,856,857,858,859,860,861,862,863,864,865,866,867,868,869,870,871,872,873,874,875,876,877,878,879,880,881,882,883,884,885,886,887,888,889,890,891,892,893,894,895,896,897,898,899],\"similarity\":{\"__ndarray__\":\"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\",\"dtype\":\"float64\",\"shape\":[900]},\"x\":[\"SK\",\"SK\",\"SK\",\"SK\",\"SK\",\"SK\",\"SK\",\"SK\",\"SK\",\"SK\",\"SK\",\"SK\",\"SK\",\"SK\",\"SK\",\"SK\",\"SK\",\"SK\",\"SK\",\"SK\",\"SK\",\"SK\",\"SK\",\"SK\",\"SK\",\"SK\",\"SK\",\"SK\",\"SK\",\"SK\",\"kr\",\"kr\",\"kr\",\"kr\",\"kr\",\"kr\",\"kr\",\"kr\",\"kr\",\"kr\",\"kr\",\"kr\",\"kr\",\"kr\",\"kr\",\"kr\",\"kr\",\"kr\",\"kr\",\"kr\",\"kr\",\"kr\",\"kr\",\"kr\",\"kr\",\"kr\",\"kr\",\"kr\",\"kr\",\"kr\",\"\\ub0d0\\uace0\",\"\\ub0d0\\uace0\",\"\\ub0d0\\uace0\",\"\\ub0d0\\uace0\",\"\\ub0d0\\uace0\",\"\\ub0d0\\uace0\",\"\\ub0d0\\uace0\",\"\\ub0d0\\uace0\",\"\\ub0d0\\uace0\",\"\\ub0d0\\uace0\",\"\\ub0d0\\uace0\",\"\\ub0d0\\uace0\",\"\\ub0d0\\uace0\",\"\\ub0d0\\uace0\",\"\\ub0d0\\uace0\",\"\\ub0d0\\uace0\",\"\\ub0d0\\uace0\",\"\\ub0d0\\uace0\",\"\\ub0d0\\uace0\",\"\\ub0d0\\uace0\",\"\\ub0d0\\uace0\",\"\\ub0d0\\uace0\",\"\\ub0d0\\uace0\",\"\\ub0d0\\uace0\",\"\\ub0d0\\uace0\",\"\\ub0d0\\uace0\",\"\\ub0d0\\uace0\",\"\\ub0d0\\uace0\",\"\\ub0d0\\uace0\",\"\\ub0d0\\uace0\",\"\\ub2f9\\ubd84\\uac04\",\"\\ub2f9\\ubd84\\uac04\",\"\\ub2f9\\ubd84\\uac04\",\"\\ub2f9\\ubd84\\uac04\",\"\\ub2f9\\ubd84\\uac04\",\"\\ub2f9\\ubd84\\uac04\",\"\\ub2f9\\ubd84\\uac04\",\"\\ub2f9\\ubd84\\uac04\",\"\\ub2f9\\ubd84\\uac04\",\"\\ub2f9\\ubd84\\uac04\",\"\\ub2f9\\ubd84\\uac04\",\"\\ub2f9\\ubd84\\uac04\",\"\\ub2f9\\ubd84\\uac04\",\"\\ub2f9\\ubd84\\uac04\",\"\\ub2f9\\ubd84\\uac04\",\"\\ub2f9\\ubd84\\uac04\",\"\\ub2f9\\ubd84\\uac04\",\"\\ub2f9\\ubd84\\uac04\",\"\\ub2f9\\ubd84\\uac04\",\"\\ub2f9\\ubd84\\uac04\",\"\\ub2f9\\ubd84\\uac04\",\"\\ub2f9\\ubd84\\uac04\",\"\\ub2f9\\ubd84\\uac04\",\"\\ub2f9\\ubd84\\uac04\",\"\\ub2f9\\ubd84\\uac04\",\"\\ub2f9\\ubd84\\uac04\",\"\\ub2f9\\ubd84\\uac04\",\"\\ub2f9\\ubd84\\uac04\",\"\\ub2f9\\ubd84\\uac04\",\"\\ub2f9\\ubd84\\uac04\",\"\\uace0\\uc694\",\"\\uace0\\uc694\",\"\\uace0\\uc694\",\"\\uace0\\uc694\",\"\\uace0\\uc694\",\"\\uace0\\uc694\",\"\\uace0\\uc694\",\"\\uace0\\uc694\",\"\\uace0\\uc694\",\"\\uace0\\uc694\",\"\\uace0\\uc694\",\"\\uace0\\uc694\",\"\\uace0\\uc694\",\"\\uace0\\uc694\",\"\\uace0\\uc694\",\"\\uace0\\uc694\",\"\\uace0\\uc694\",\"\\uace0\\uc694\",\"\\uace0\\uc694\",\"\\uace0\\uc694\",\"\\uace0\\uc694\",\"\\uace0\\uc694\",\"\\uace0\\uc694\",\"\\uace0\\uc694\",\"\\uace0\\uc694\",\"\\uace0\\uc694\",\"\\uace0\\uc694\",\"\\uace0\\uc694\",\"\\uace0\\uc694\",\"\\uace0\\uc694\",\"\\ud504\",\"\\ud504\",\"\\ud504\",\"\\ud504\",\"\\ud504\",\"\\ud504\",\"\\ud504\",\"\\ud504\",\"\\ud504\",\"\\ud504\",\"\\ud504\",\"\\ud504\",\"\\ud504\",\"\\ud504\",\"\\ud504\",\"\\ud504\",\"\\ud504\",\"\\ud504\",\"\\ud504\",\"\\ud504\",\"\\ud504\",\"\\ud504\",\"\\ud504\",\"\\ud504\",\"\\ud504\",\"\\ud504\",\"\\ud504\",\"\\ud504\",\"\\ud504\",\"\\ud504\",\"\\uc6b0\\ub9ac\",\"\\uc6b0\\ub9ac\",\"\\uc6b0\\ub9ac\",\"\\uc6b0\\ub9ac\",\"\\uc6b0\\ub9ac\",\"\\uc6b0\\ub9ac\",\"\\uc6b0\\ub9ac\",\"\\uc6b0\\ub9ac\",\"\\uc6b0\\ub9ac\",\"\\uc6b0\\ub9ac\",\"\\uc6b0\\ub9ac\",\"\\uc6b0\\ub9ac\",\"\\uc6b0\\ub9ac\",\"\\uc6b0\\ub9ac\",\"\\uc6b0\\ub9ac\",\"\\uc6b0\\ub9ac\",\"\\uc6b0\\ub9ac\",\"\\uc6b0\\ub9ac\",\"\\uc6b0\\ub9ac\",\"\\uc6b0\\ub9ac\",\"\\uc6b0\\ub9ac\",\"\\uc6b0\\ub9ac\",\"\\uc6b0\\ub9ac\",\"\\uc6b0\\ub9ac\",\"\\uc6b0\\ub9ac\",\"\\uc6b0\\ub9ac\",\"\\uc6b0\\ub9ac\",\"\\uc6b0\\ub9ac\",\"\\uc6b0\\ub9ac\",\"\\uc6b0\\ub9ac\",\"\\ub098\\uc774\",\"\\ub098\\uc774\",\"\\ub098\\uc774\",\"\\ub098\\uc774\",\"\\ub098\\uc774\",\"\\ub098\\uc774\",\"\\ub098\\uc774\",\"\\ub098\\uc774\",\"\\ub098\\uc774\",\"\\ub098\\uc774\",\"\\ub098\\uc774\",\"\\ub098\\uc774\",\"\\ub098\\uc774\",\"\\ub098\\uc774\",\"\\ub098\\uc774\",\"\\ub098\\uc774\",\"\\ub098\\uc774\",\"\\ub098\\uc774\",\"\\ub098\\uc774\",\"\\ub098\\uc774\",\"\\ub098\\uc774\",\"\\ub098\\uc774\",\"\\ub098\\uc774\",\"\\ub098\\uc774\",\"\\ub098\\uc774\",\"\\ub098\\uc774\",\"\\ub098\\uc774\",\"\\ub098\\uc774\",\"\\ub098\\uc774\",\"\\ub098\\uc774\",\"\\uae4c\\uc9c4\",\"\\uae4c\\uc9c4\",\"\\uae4c\\uc9c4\",\"\\uae4c\\uc9c4\",\"\\uae4c\\uc9c4\",\"\\uae4c\\uc9c4\",\"\\uae4c\\uc9c4\",\"\\uae4c\\uc9c4\",\"\\uae4c\\uc9c4\",\"\\uae4c\\uc9c4\",\"\\uae4c\\uc9c4\",\"\\uae4c\\uc9c4\",\"\\uae4c\\uc9c4\",\"\\uae4c\\uc9c4\",\"\\uae4c\\uc9c4\",\"\\uae4c\\uc9c4\",\"\\uae4c\\uc9c4\",\"\\uae4c\\uc9c4\",\"\\uae4c\\uc9c4\",\"\\uae4c\\uc9c4\",\"\\uae4c\\uc9c4\",\"\\uae4c\\uc9c4\",\"\\uae4c\\uc9c4\",\"\\uae4c\\uc9c4\",\"\\uae4c\\uc9c4\",\"\\uae4c\\uc9c4\",\"\\uae4c\\uc9c4\",\"\\uae4c\\uc9c4\",\"\\uae4c\\uc9c4\",\"\\uae4c\\uc9c4\",\"\\uc5b4\\ub77c\",\"\\uc5b4\\ub77c\",\"\\uc5b4\\ub77c\",\"\\uc5b4\\ub77c\",\"\\uc5b4\\ub77c\",\"\\uc5b4\\ub77c\",\"\\uc5b4\\ub77c\",\"\\uc5b4\\ub77c\",\"\\uc5b4\\ub77c\",\"\\uc5b4\\ub77c\",\"\\uc5b4\\ub77c\",\"\\uc5b4\\ub77c\",\"\\uc5b4\\ub77c\",\"\\uc5b4\\ub77c\",\"\\uc5b4\\ub77c\",\"\\uc5b4\\ub77c\",\"\\uc5b4\\ub77c\",\"\\uc5b4\\ub77c\",\"\\uc5b4\\ub77c\",\"\\uc5b4\\ub77c\",\"\\uc5b4\\ub77c\",\"\\uc5b4\\ub77c\",\"\\uc5b4\\ub77c\",\"\\uc5b4\\ub77c\",\"\\uc5b4\\ub77c\",\"\\uc5b4\\ub77c\",\"\\uc5b4\\ub77c\",\"\\uc5b4\\ub77c\",\"\\uc5b4\\ub77c\",\"\\uc5b4\\ub77c\",\"\\uc57c\\uc9c0\",\"\\uc57c\\uc9c0\",\"\\uc57c\\uc9c0\",\"\\uc57c\\uc9c0\",\"\\uc57c\\uc9c0\",\"\\uc57c\\uc9c0\",\"\\uc57c\\uc9c0\",\"\\uc57c\\uc9c0\",\"\\uc57c\\uc9c0\",\"\\uc57c\\uc9c0\",\"\\uc57c\\uc9c0\",\"\\uc57c\\uc9c0\",\"\\uc57c\\uc9c0\",\"\\uc57c\\uc9c0\",\"\\uc57c\\uc9c0\",\"\\uc57c\\uc9c0\",\"\\uc57c\\uc9c0\",\"\\uc57c\\uc9c0\",\"\\uc57c\\uc9c0\",\"\\uc57c\\uc9c0\",\"\\uc57c\\uc9c0\",\"\\uc57c\\uc9c0\",\"\\uc57c\\uc9c0\",\"\\uc57c\\uc9c0\",\"\\uc57c\\uc9c0\",\"\\uc57c\\uc9c0\",\"\\uc57c\\uc9c0\",\"\\uc57c\\uc9c0\",\"\\uc57c\\uc9c0\",\"\\uc57c\\uc9c0\",\"\\uae68\\ub057\",\"\\uae68\\ub057\",\"\\uae68\\ub057\",\"\\uae68\\ub057\",\"\\uae68\\ub057\",\"\\uae68\\ub057\",\"\\uae68\\ub057\",\"\\uae68\\ub057\",\"\\uae68\\ub057\",\"\\uae68\\ub057\",\"\\uae68\\ub057\",\"\\uae68\\ub057\",\"\\uae68\\ub057\",\"\\uae68\\ub057\",\"\\uae68\\ub057\",\"\\uae68\\ub057\",\"\\uae68\\ub057\",\"\\uae68\\ub057\",\"\\uae68\\ub057\",\"\\uae68\\ub057\",\"\\uae68\\ub057\",\"\\uae68\\ub057\",\"\\uae68\\ub057\",\"\\uae68\\ub057\",\"\\uae68\\ub057\",\"\\uae68\\ub057\",\"\\uae68\\ub057\",\"\\uae68\\ub057\",\"\\uae68\\ub057\",\"\\uae68\\ub057\",\"\\uc778\",\"\\uc778\",\"\\uc778\",\"\\uc778\",\"\\uc778\",\"\\uc778\",\"\\uc778\",\"\\uc778\",\"\\uc778\",\"\\uc778\",\"\\uc778\",\"\\uc778\",\"\\uc778\",\"\\uc778\",\"\\uc778\",\"\\uc778\",\"\\uc778\",\"\\uc778\",\"\\uc778\",\"\\uc778\",\"\\uc778\",\"\\uc778\",\"\\uc778\",\"\\uc778\",\"\\uc778\",\"\\uc778\",\"\\uc778\",\"\\uc778\",\"\\uc778\",\"\\uc778\",\"\\uc9d1\",\"\\uc9d1\",\"\\uc9d1\",\"\\uc9d1\",\"\\uc9d1\",\"\\uc9d1\",\"\\uc9d1\",\"\\uc9d1\",\"\\uc9d1\",\"\\uc9d1\",\"\\uc9d1\",\"\\uc9d1\",\"\\uc9d1\",\"\\uc9d1\",\"\\uc9d1\",\"\\uc9d1\",\"\\uc9d1\",\"\\uc9d1\",\"\\uc9d1\",\"\\uc9d1\",\"\\uc9d1\",\"\\uc9d1\",\"\\uc9d1\",\"\\uc9d1\",\"\\uc9d1\",\"\\uc9d1\",\"\\uc9d1\",\"\\uc9d1\",\"\\uc9d1\",\"\\uc9d1\",\"\\ubd80\\ud305\",\"\\ubd80\\ud305\",\"\\ubd80\\ud305\",\"\\ubd80\\ud305\",\"\\ubd80\\ud305\",\"\\ubd80\\ud305\",\"\\ubd80\\ud305\",\"\\ubd80\\ud305\",\"\\ubd80\\ud305\",\"\\ubd80\\ud305\",\"\\ubd80\\ud305\",\"\\ubd80\\ud305\",\"\\ubd80\\ud305\",\"\\ubd80\\ud305\",\"\\ubd80\\ud305\",\"\\ubd80\\ud305\",\"\\ubd80\\ud305\",\"\\ubd80\\ud305\",\"\\ubd80\\ud305\",\"\\ubd80\\ud305\",\"\\ubd80\\ud305\",\"\\ubd80\\ud305\",\"\\ubd80\\ud305\",\"\\ubd80\\ud305\",\"\\ubd80\\ud305\",\"\\ubd80\\ud305\",\"\\ubd80\\ud305\",\"\\ubd80\\ud305\",\"\\ubd80\\ud305\",\"\\ubd80\\ud305\",\"\\uc544\\ub9c8\\ub3c4\",\"\\uc544\\ub9c8\\ub3c4\",\"\\uc544\\ub9c8\\ub3c4\",\"\\uc544\\ub9c8\\ub3c4\",\"\\uc544\\ub9c8\\ub3c4\",\"\\uc544\\ub9c8\\ub3c4\",\"\\uc544\\ub9c8\\ub3c4\",\"\\uc544\\ub9c8\\ub3c4\",\"\\uc544\\ub9c8\\ub3c4\",\"\\uc544\\ub9c8\\ub3c4\",\"\\uc544\\ub9c8\\ub3c4\",\"\\uc544\\ub9c8\\ub3c4\",\"\\uc544\\ub9c8\\ub3c4\",\"\\uc544\\ub9c8\\ub3c4\",\"\\uc544\\ub9c8\\ub3c4\",\"\\uc544\\ub9c8\\ub3c4\",\"\\uc544\\ub9c8\\ub3c4\",\"\\uc544\\ub9c8\\ub3c4\",\"\\uc544\\ub9c8\\ub3c4\",\"\\uc544\\ub9c8\\ub3c4\",\"\\uc544\\ub9c8\\ub3c4\",\"\\uc544\\ub9c8\\ub3c4\",\"\\uc544\\ub9c8\\ub3c4\",\"\\uc544\\ub9c8\\ub3c4\",\"\\uc544\\ub9c8\\ub3c4\",\"\\uc544\\ub9c8\\ub3c4\",\"\\uc544\\ub9c8\\ub3c4\",\"\\uc544\\ub9c8\\ub3c4\",\"\\uc544\\ub9c8\\ub3c4\",\"\\uc544\\ub9c8\\ub3c4\",\"\\ub0b4\\uc694\",\"\\ub0b4\\uc694\",\"\\ub0b4\\uc694\",\"\\ub0b4\\uc694\",\"\\ub0b4\\uc694\",\"\\ub0b4\\uc694\",\"\\ub0b4\\uc694\",\"\\ub0b4\\uc694\",\"\\ub0b4\\uc694\",\"\\ub0b4\\uc694\",\"\\ub0b4\\uc694\",\"\\ub0b4\\uc694\",\"\\ub0b4\\uc694\",\"\\ub0b4\\uc694\",\"\\ub0b4\\uc694\",\"\\ub0b4\\uc694\",\"\\ub0b4\\uc694\",\"\\ub0b4\\uc694\",\"\\ub0b4\\uc694\",\"\\ub0b4\\uc694\",\"\\ub0b4\\uc694\",\"\\ub0b4\\uc694\",\"\\ub0b4\\uc694\",\"\\ub0b4\\uc694\",\"\\ub0b4\\uc694\",\"\\ub0b4\\uc694\",\"\\ub0b4\\uc694\",\"\\ub0b4\\uc694\",\"\\ub0b4\\uc694\",\"\\ub0b4\\uc694\",\"\\uc544\\uc11c\",\"\\uc544\\uc11c\",\"\\uc544\\uc11c\",\"\\uc544\\uc11c\",\"\\uc544\\uc11c\",\"\\uc544\\uc11c\",\"\\uc544\\uc11c\",\"\\uc544\\uc11c\",\"\\uc544\\uc11c\",\"\\uc544\\uc11c\",\"\\uc544\\uc11c\",\"\\uc544\\uc11c\",\"\\uc544\\uc11c\",\"\\uc544\\uc11c\",\"\\uc544\\uc11c\",\"\\uc544\\uc11c\",\"\\uc544\\uc11c\",\"\\uc544\\uc11c\",\"\\uc544\\uc11c\",\"\\uc544\\uc11c\",\"\\uc544\\uc11c\",\"\\uc544\\uc11c\",\"\\uc544\\uc11c\",\"\\uc544\\uc11c\",\"\\uc544\\uc11c\",\"\\uc544\\uc11c\",\"\\uc544\\uc11c\",\"\\uc544\\uc11c\",\"\\uc544\\uc11c\",\"\\uc544\\uc11c\",\"\\uc774\\uac70\",\"\\uc774\\uac70\",\"\\uc774\\uac70\",\"\\uc774\\uac70\",\"\\uc774\\uac70\",\"\\uc774\\uac70\",\"\\uc774\\uac70\",\"\\uc774\\uac70\",\"\\uc774\\uac70\",\"\\uc774\\uac70\",\"\\uc774\\uac70\",\"\\uc774\\uac70\",\"\\uc774\\uac70\",\"\\uc774\\uac70\",\"\\uc774\\uac70\",\"\\uc774\\uac70\",\"\\uc774\\uac70\",\"\\uc774\\uac70\",\"\\uc774\\uac70\",\"\\uc774\\uac70\",\"\\uc774\\uac70\",\"\\uc774\\uac70\",\"\\uc774\\uac70\",\"\\uc774\\uac70\",\"\\uc774\\uac70\",\"\\uc774\\uac70\",\"\\uc774\\uac70\",\"\\uc774\\uac70\",\"\\uc774\\uac70\",\"\\uc774\\uac70\",\"\\ud310\\ub9e4\\uc790\",\"\\ud310\\ub9e4\\uc790\",\"\\ud310\\ub9e4\\uc790\",\"\\ud310\\ub9e4\\uc790\",\"\\ud310\\ub9e4\\uc790\",\"\\ud310\\ub9e4\\uc790\",\"\\ud310\\ub9e4\\uc790\",\"\\ud310\\ub9e4\\uc790\",\"\\ud310\\ub9e4\\uc790\",\"\\ud310\\ub9e4\\uc790\",\"\\ud310\\ub9e4\\uc790\",\"\\ud310\\ub9e4\\uc790\",\"\\ud310\\ub9e4\\uc790\",\"\\ud310\\ub9e4\\uc790\",\"\\ud310\\ub9e4\\uc790\",\"\\ud310\\ub9e4\\uc790\",\"\\ud310\\ub9e4\\uc790\",\"\\ud310\\ub9e4\\uc790\",\"\\ud310\\ub9e4\\uc790\",\"\\ud310\\ub9e4\\uc790\",\"\\ud310\\ub9e4\\uc790\",\"\\ud310\\ub9e4\\uc790\",\"\\ud310\\ub9e4\\uc790\",\"\\ud310\\ub9e4\\uc790\",\"\\ud310\\ub9e4\\uc790\",\"\\ud310\\ub9e4\\uc790\",\"\\ud310\\ub9e4\\uc790\",\"\\ud310\\ub9e4\\uc790\",\"\\ud310\\ub9e4\\uc790\",\"\\ud310\\ub9e4\\uc790\",\"\\ud035\",\"\\ud035\",\"\\ud035\",\"\\ud035\",\"\\ud035\",\"\\ud035\",\"\\ud035\",\"\\ud035\",\"\\ud035\",\"\\ud035\",\"\\ud035\",\"\\ud035\",\"\\ud035\",\"\\ud035\",\"\\ud035\",\"\\ud035\",\"\\ud035\",\"\\ud035\",\"\\ud035\",\"\\ud035\",\"\\ud035\",\"\\ud035\",\"\\ud035\",\"\\ud035\",\"\\ud035\",\"\\ud035\",\"\\ud035\",\"\\ud035\",\"\\ud035\",\"\\ud035\",\"\\uc634\\ub2c8\\uc544\",\"\\uc634\\ub2c8\\uc544\",\"\\uc634\\ub2c8\\uc544\",\"\\uc634\\ub2c8\\uc544\",\"\\uc634\\ub2c8\\uc544\",\"\\uc634\\ub2c8\\uc544\",\"\\uc634\\ub2c8\\uc544\",\"\\uc634\\ub2c8\\uc544\",\"\\uc634\\ub2c8\\uc544\",\"\\uc634\\ub2c8\\uc544\",\"\\uc634\\ub2c8\\uc544\",\"\\uc634\\ub2c8\\uc544\",\"\\uc634\\ub2c8\\uc544\",\"\\uc634\\ub2c8\\uc544\",\"\\uc634\\ub2c8\\uc544\",\"\\uc634\\ub2c8\\uc544\",\"\\uc634\\ub2c8\\uc544\",\"\\uc634\\ub2c8\\uc544\",\"\\uc634\\ub2c8\\uc544\",\"\\uc634\\ub2c8\\uc544\",\"\\uc634\\ub2c8\\uc544\",\"\\uc634\\ub2c8\\uc544\",\"\\uc634\\ub2c8\\uc544\",\"\\uc634\\ub2c8\\uc544\",\"\\uc634\\ub2c8\\uc544\",\"\\uc634\\ub2c8\\uc544\",\"\\uc634\\ub2c8\\uc544\",\"\\uc634\\ub2c8\\uc544\",\"\\uc634\\ub2c8\\uc544\",\"\\uc634\\ub2c8\\uc544\",\"\\uc804\\ubd80\",\"\\uc804\\ubd80\",\"\\uc804\\ubd80\",\"\\uc804\\ubd80\",\"\\uc804\\ubd80\",\"\\uc804\\ubd80\",\"\\uc804\\ubd80\",\"\\uc804\\ubd80\",\"\\uc804\\ubd80\",\"\\uc804\\ubd80\",\"\\uc804\\ubd80\",\"\\uc804\\ubd80\",\"\\uc804\\ubd80\",\"\\uc804\\ubd80\",\"\\uc804\\ubd80\",\"\\uc804\\ubd80\",\"\\uc804\\ubd80\",\"\\uc804\\ubd80\",\"\\uc804\\ubd80\",\"\\uc804\\ubd80\",\"\\uc804\\ubd80\",\"\\uc804\\ubd80\",\"\\uc804\\ubd80\",\"\\uc804\\ubd80\",\"\\uc804\\ubd80\",\"\\uc804\\ubd80\",\"\\uc804\\ubd80\",\"\\uc804\\ubd80\",\"\\uc804\\ubd80\",\"\\uc804\\ubd80\",\"\\ub294\\uc9c0\",\"\\ub294\\uc9c0\",\"\\ub294\\uc9c0\",\"\\ub294\\uc9c0\",\"\\ub294\\uc9c0\",\"\\ub294\\uc9c0\",\"\\ub294\\uc9c0\",\"\\ub294\\uc9c0\",\"\\ub294\\uc9c0\",\"\\ub294\\uc9c0\",\"\\ub294\\uc9c0\",\"\\ub294\\uc9c0\",\"\\ub294\\uc9c0\",\"\\ub294\\uc9c0\",\"\\ub294\\uc9c0\",\"\\ub294\\uc9c0\",\"\\ub294\\uc9c0\",\"\\ub294\\uc9c0\",\"\\ub294\\uc9c0\",\"\\ub294\\uc9c0\",\"\\ub294\\uc9c0\",\"\\ub294\\uc9c0\",\"\\ub294\\uc9c0\",\"\\ub294\\uc9c0\",\"\\ub294\\uc9c0\",\"\\ub294\\uc9c0\",\"\\ub294\\uc9c0\",\"\\ub294\\uc9c0\",\"\\ub294\\uc9c0\",\"\\ub294\\uc9c0\",\"\\uc9c0\\ub974\",\"\\uc9c0\\ub974\",\"\\uc9c0\\ub974\",\"\\uc9c0\\ub974\",\"\\uc9c0\\ub974\",\"\\uc9c0\\ub974\",\"\\uc9c0\\ub974\",\"\\uc9c0\\ub974\",\"\\uc9c0\\ub974\",\"\\uc9c0\\ub974\",\"\\uc9c0\\ub974\",\"\\uc9c0\\ub974\",\"\\uc9c0\\ub974\",\"\\uc9c0\\ub974\",\"\\uc9c0\\ub974\",\"\\uc9c0\\ub974\",\"\\uc9c0\\ub974\",\"\\uc9c0\\ub974\",\"\\uc9c0\\ub974\",\"\\uc9c0\\ub974\",\"\\uc9c0\\ub974\",\"\\uc9c0\\ub974\",\"\\uc9c0\\ub974\",\"\\uc9c0\\ub974\",\"\\uc9c0\\ub974\",\"\\uc9c0\\ub974\",\"\\uc9c0\\ub974\",\"\\uc9c0\\ub974\",\"\\uc9c0\\ub974\",\"\\uc9c0\\ub974\",\"\\ud0c0\\uc784\",\"\\ud0c0\\uc784\",\"\\ud0c0\\uc784\",\"\\ud0c0\\uc784\",\"\\ud0c0\\uc784\",\"\\ud0c0\\uc784\",\"\\ud0c0\\uc784\",\"\\ud0c0\\uc784\",\"\\ud0c0\\uc784\",\"\\ud0c0\\uc784\",\"\\ud0c0\\uc784\",\"\\ud0c0\\uc784\",\"\\ud0c0\\uc784\",\"\\ud0c0\\uc784\",\"\\ud0c0\\uc784\",\"\\ud0c0\\uc784\",\"\\ud0c0\\uc784\",\"\\ud0c0\\uc784\",\"\\ud0c0\\uc784\",\"\\ud0c0\\uc784\",\"\\ud0c0\\uc784\",\"\\ud0c0\\uc784\",\"\\ud0c0\\uc784\",\"\\ud0c0\\uc784\",\"\\ud0c0\\uc784\",\"\\ud0c0\\uc784\",\"\\ud0c0\\uc784\",\"\\ud0c0\\uc784\",\"\\ud0c0\\uc784\",\"\\ud0c0\\uc784\",\"\\ubc18\\uc751\",\"\\ubc18\\uc751\",\"\\ubc18\\uc751\",\"\\ubc18\\uc751\",\"\\ubc18\\uc751\",\"\\ubc18\\uc751\",\"\\ubc18\\uc751\",\"\\ubc18\\uc751\",\"\\ubc18\\uc751\",\"\\ubc18\\uc751\",\"\\ubc18\\uc751\",\"\\ubc18\\uc751\",\"\\ubc18\\uc751\",\"\\ubc18\\uc751\",\"\\ubc18\\uc751\",\"\\ubc18\\uc751\",\"\\ubc18\\uc751\",\"\\ubc18\\uc751\",\"\\ubc18\\uc751\",\"\\ubc18\\uc751\",\"\\ubc18\\uc751\",\"\\ubc18\\uc751\",\"\\ubc18\\uc751\",\"\\ubc18\\uc751\",\"\\ubc18\\uc751\",\"\\ubc18\\uc751\",\"\\ubc18\\uc751\",\"\\ubc18\\uc751\",\"\\ubc18\\uc751\",\"\\ubc18\\uc751\",\"ics\",\"ics\",\"ics\",\"ics\",\"ics\",\"ics\",\"ics\",\"ics\",\"ics\",\"ics\",\"ics\",\"ics\",\"ics\",\"ics\",\"ics\",\"ics\",\"ics\",\"ics\",\"ics\",\"ics\",\"ics\",\"ics\",\"ics\",\"ics\",\"ics\",\"ics\",\"ics\",\"ics\",\"ics\",\"ics\",\"\\ub0b4\\uc77c\",\"\\ub0b4\\uc77c\",\"\\ub0b4\\uc77c\",\"\\ub0b4\\uc77c\",\"\\ub0b4\\uc77c\",\"\\ub0b4\\uc77c\",\"\\ub0b4\\uc77c\",\"\\ub0b4\\uc77c\",\"\\ub0b4\\uc77c\",\"\\ub0b4\\uc77c\",\"\\ub0b4\\uc77c\",\"\\ub0b4\\uc77c\",\"\\ub0b4\\uc77c\",\"\\ub0b4\\uc77c\",\"\\ub0b4\\uc77c\",\"\\ub0b4\\uc77c\",\"\\ub0b4\\uc77c\",\"\\ub0b4\\uc77c\",\"\\ub0b4\\uc77c\",\"\\ub0b4\\uc77c\",\"\\ub0b4\\uc77c\",\"\\ub0b4\\uc77c\",\"\\ub0b4\\uc77c\",\"\\ub0b4\\uc77c\",\"\\ub0b4\\uc77c\",\"\\ub0b4\\uc77c\",\"\\ub0b4\\uc77c\",\"\\ub0b4\\uc77c\",\"\\ub0b4\\uc77c\",\"\\ub0b4\\uc77c\",\"\\uc900\\ub2e4\\ub294\",\"\\uc900\\ub2e4\\ub294\",\"\\uc900\\ub2e4\\ub294\",\"\\uc900\\ub2e4\\ub294\",\"\\uc900\\ub2e4\\ub294\",\"\\uc900\\ub2e4\\ub294\",\"\\uc900\\ub2e4\\ub294\",\"\\uc900\\ub2e4\\ub294\",\"\\uc900\\ub2e4\\ub294\",\"\\uc900\\ub2e4\\ub294\",\"\\uc900\\ub2e4\\ub294\",\"\\uc900\\ub2e4\\ub294\",\"\\uc900\\ub2e4\\ub294\",\"\\uc900\\ub2e4\\ub294\",\"\\uc900\\ub2e4\\ub294\",\"\\uc900\\ub2e4\\ub294\",\"\\uc900\\ub2e4\\ub294\",\"\\uc900\\ub2e4\\ub294\",\"\\uc900\\ub2e4\\ub294\",\"\\uc900\\ub2e4\\ub294\",\"\\uc900\\ub2e4\\ub294\",\"\\uc900\\ub2e4\\ub294\",\"\\uc900\\ub2e4\\ub294\",\"\\uc900\\ub2e4\\ub294\",\"\\uc900\\ub2e4\\ub294\",\"\\uc900\\ub2e4\\ub294\",\"\\uc900\\ub2e4\\ub294\",\"\\uc900\\ub2e4\\ub294\",\"\\uc900\\ub2e4\\ub294\",\"\\uc900\\ub2e4\\ub294\"],\"y\":[\"SK\",\"kr\",\"\\ub0d0\\uace0\",\"\\ub2f9\\ubd84\\uac04\",\"\\uace0\\uc694\",\"\\ud504\",\"\\uc6b0\\ub9ac\",\"\\ub098\\uc774\",\"\\uae4c\\uc9c4\",\"\\uc5b4\\ub77c\",\"\\uc57c\\uc9c0\",\"\\uae68\\ub057\",\"\\uc778\",\"\\uc9d1\",\"\\ubd80\\ud305\",\"\\uc544\\ub9c8\\ub3c4\",\"\\ub0b4\\uc694\",\"\\uc544\\uc11c\",\"\\uc774\\uac70\",\"\\ud310\\ub9e4\\uc790\",\"\\ud035\",\"\\uc634\\ub2c8\\uc544\",\"\\uc804\\ubd80\",\"\\ub294\\uc9c0\",\"\\uc9c0\\ub974\",\"\\ud0c0\\uc784\",\"\\ubc18\\uc751\",\"ics\",\"\\ub0b4\\uc77c\",\"\\uc900\\ub2e4\\ub294\",\"SK\",\"kr\",\"\\ub0d0\\uace0\",\"\\ub2f9\\ubd84\\uac04\",\"\\uace0\\uc694\",\"\\ud504\",\"\\uc6b0\\ub9ac\",\"\\ub098\\uc774\",\"\\uae4c\\uc9c4\",\"\\uc5b4\\ub77c\",\"\\uc57c\\uc9c0\",\"\\uae68\\ub057\",\"\\uc778\",\"\\uc9d1\",\"\\ubd80\\ud305\",\"\\uc544\\ub9c8\\ub3c4\",\"\\ub0b4\\uc694\",\"\\uc544\\uc11c\",\"\\uc774\\uac70\",\"\\ud310\\ub9e4\\uc790\",\"\\ud035\",\"\\uc634\\ub2c8\\uc544\",\"\\uc804\\ubd80\",\"\\ub294\\uc9c0\",\"\\uc9c0\\ub974\",\"\\ud0c0\\uc784\",\"\\ubc18\\uc751\",\"ics\",\"\\ub0b4\\uc77c\",\"\\uc900\\ub2e4\\ub294\",\"SK\",\"kr\",\"\\ub0d0\\uace0\",\"\\ub2f9\\ubd84\\uac04\",\"\\uace0\\uc694\",\"\\ud504\",\"\\uc6b0\\ub9ac\",\"\\ub098\\uc774\",\"\\uae4c\\uc9c4\",\"\\uc5b4\\ub77c\",\"\\uc57c\\uc9c0\",\"\\uae68\\ub057\",\"\\uc778\",\"\\uc9d1\",\"\\ubd80\\ud305\",\"\\uc544\\ub9c8\\ub3c4\",\"\\ub0b4\\uc694\",\"\\uc544\\uc11c\",\"\\uc774\\uac70\",\"\\ud310\\ub9e4\\uc790\",\"\\ud035\",\"\\uc634\\ub2c8\\uc544\",\"\\uc804\\ubd80\",\"\\ub294\\uc9c0\",\"\\uc9c0\\ub974\",\"\\ud0c0\\uc784\",\"\\ubc18\\uc751\",\"ics\",\"\\ub0b4\\uc77c\",\"\\uc900\\ub2e4\\ub294\",\"SK\",\"kr\",\"\\ub0d0\\uace0\",\"\\ub2f9\\ubd84\\uac04\",\"\\uace0\\uc694\",\"\\ud504\",\"\\uc6b0\\ub9ac\",\"\\ub098\\uc774\",\"\\uae4c\\uc9c4\",\"\\uc5b4\\ub77c\",\"\\uc57c\\uc9c0\",\"\\uae68\\ub057\",\"\\uc778\",\"\\uc9d1\",\"\\ubd80\\ud305\",\"\\uc544\\ub9c8\\ub3c4\",\"\\ub0b4\\uc694\",\"\\uc544\\uc11c\",\"\\uc774\\uac70\",\"\\ud310\\ub9e4\\uc790\",\"\\ud035\",\"\\uc634\\ub2c8\\uc544\",\"\\uc804\\ubd80\",\"\\ub294\\uc9c0\",\"\\uc9c0\\ub974\",\"\\ud0c0\\uc784\",\"\\ubc18\\uc751\",\"ics\",\"\\ub0b4\\uc77c\",\"\\uc900\\ub2e4\\ub294\",\"SK\",\"kr\",\"\\ub0d0\\uace0\",\"\\ub2f9\\ubd84\\uac04\",\"\\uace0\\uc694\",\"\\ud504\",\"\\uc6b0\\ub9ac\",\"\\ub098\\uc774\",\"\\uae4c\\uc9c4\",\"\\uc5b4\\ub77c\",\"\\uc57c\\uc9c0\",\"\\uae68\\ub057\",\"\\uc778\",\"\\uc9d1\",\"\\ubd80\\ud305\",\"\\uc544\\ub9c8\\ub3c4\",\"\\ub0b4\\uc694\",\"\\uc544\\uc11c\",\"\\uc774\\uac70\",\"\\ud310\\ub9e4\\uc790\",\"\\ud035\",\"\\uc634\\ub2c8\\uc544\",\"\\uc804\\ubd80\",\"\\ub294\\uc9c0\",\"\\uc9c0\\ub974\",\"\\ud0c0\\uc784\",\"\\ubc18\\uc751\",\"ics\",\"\\ub0b4\\uc77c\",\"\\uc900\\ub2e4\\ub294\",\"SK\",\"kr\",\"\\ub0d0\\uace0\",\"\\ub2f9\\ubd84\\uac04\",\"\\uace0\\uc694\",\"\\ud504\",\"\\uc6b0\\ub9ac\",\"\\ub098\\uc774\",\"\\uae4c\\uc9c4\",\"\\uc5b4\\ub77c\",\"\\uc57c\\uc9c0\",\"\\uae68\\ub057\",\"\\uc778\",\"\\uc9d1\",\"\\ubd80\\ud305\",\"\\uc544\\ub9c8\\ub3c4\",\"\\ub0b4\\uc694\",\"\\uc544\\uc11c\",\"\\uc774\\uac70\",\"\\ud310\\ub9e4\\uc790\",\"\\ud035\",\"\\uc634\\ub2c8\\uc544\",\"\\uc804\\ubd80\",\"\\ub294\\uc9c0\",\"\\uc9c0\\ub974\",\"\\ud0c0\\uc784\",\"\\ubc18\\uc751\",\"ics\",\"\\ub0b4\\uc77c\",\"\\uc900\\ub2e4\\ub294\",\"SK\",\"kr\",\"\\ub0d0\\uace0\",\"\\ub2f9\\ubd84\\uac04\",\"\\uace0\\uc694\",\"\\ud504\",\"\\uc6b0\\ub9ac\",\"\\ub098\\uc774\",\"\\uae4c\\uc9c4\",\"\\uc5b4\\ub77c\",\"\\uc57c\\uc9c0\",\"\\uae68\\ub057\",\"\\uc778\",\"\\uc9d1\",\"\\ubd80\\ud305\",\"\\uc544\\ub9c8\\ub3c4\",\"\\ub0b4\\uc694\",\"\\uc544\\uc11c\",\"\\uc774\\uac70\",\"\\ud310\\ub9e4\\uc790\",\"\\ud035\",\"\\uc634\\ub2c8\\uc544\",\"\\uc804\\ubd80\",\"\\ub294\\uc9c0\",\"\\uc9c0\\ub974\",\"\\ud0c0\\uc784\",\"\\ubc18\\uc751\",\"ics\",\"\\ub0b4\\uc77c\",\"\\uc900\\ub2e4\\ub294\",\"SK\",\"kr\",\"\\ub0d0\\uace0\",\"\\ub2f9\\ubd84\\uac04\",\"\\uace0\\uc694\",\"\\ud504\",\"\\uc6b0\\ub9ac\",\"\\ub098\\uc774\",\"\\uae4c\\uc9c4\",\"\\uc5b4\\ub77c\",\"\\uc57c\\uc9c0\",\"\\uae68\\ub057\",\"\\uc778\",\"\\uc9d1\",\"\\ubd80\\ud305\",\"\\uc544\\ub9c8\\ub3c4\",\"\\ub0b4\\uc694\",\"\\uc544\\uc11c\",\"\\uc774\\uac70\",\"\\ud310\\ub9e4\\uc790\",\"\\ud035\",\"\\uc634\\ub2c8\\uc544\",\"\\uc804\\ubd80\",\"\\ub294\\uc9c0\",\"\\uc9c0\\ub974\",\"\\ud0c0\\uc784\",\"\\ubc18\\uc751\",\"ics\",\"\\ub0b4\\uc77c\",\"\\uc900\\ub2e4\\ub294\",\"SK\",\"kr\",\"\\ub0d0\\uace0\",\"\\ub2f9\\ubd84\\uac04\",\"\\uace0\\uc694\",\"\\ud504\",\"\\uc6b0\\ub9ac\",\"\\ub098\\uc774\",\"\\uae4c\\uc9c4\",\"\\uc5b4\\ub77c\",\"\\uc57c\\uc9c0\",\"\\uae68\\ub057\",\"\\uc778\",\"\\uc9d1\",\"\\ubd80\\ud305\",\"\\uc544\\ub9c8\\ub3c4\",\"\\ub0b4\\uc694\",\"\\uc544\\uc11c\",\"\\uc774\\uac70\",\"\\ud310\\ub9e4\\uc790\",\"\\ud035\",\"\\uc634\\ub2c8\\uc544\",\"\\uc804\\ubd80\",\"\\ub294\\uc9c0\",\"\\uc9c0\\ub974\",\"\\ud0c0\\uc784\",\"\\ubc18\\uc751\",\"ics\",\"\\ub0b4\\uc77c\",\"\\uc900\\ub2e4\\ub294\",\"SK\",\"kr\",\"\\ub0d0\\uace0\",\"\\ub2f9\\ubd84\\uac04\",\"\\uace0\\uc694\",\"\\ud504\",\"\\uc6b0\\ub9ac\",\"\\ub098\\uc774\",\"\\uae4c\\uc9c4\",\"\\uc5b4\\ub77c\",\"\\uc57c\\uc9c0\",\"\\uae68\\ub057\",\"\\uc778\",\"\\uc9d1\",\"\\ubd80\\ud305\",\"\\uc544\\ub9c8\\ub3c4\",\"\\ub0b4\\uc694\",\"\\uc544\\uc11c\",\"\\uc774\\uac70\",\"\\ud310\\ub9e4\\uc790\",\"\\ud035\",\"\\uc634\\ub2c8\\uc544\",\"\\uc804\\ubd80\",\"\\ub294\\uc9c0\",\"\\uc9c0\\ub974\",\"\\ud0c0\\uc784\",\"\\ubc18\\uc751\",\"ics\",\"\\ub0b4\\uc77c\",\"\\uc900\\ub2e4\\ub294\",\"SK\",\"kr\",\"\\ub0d0\\uace0\",\"\\ub2f9\\ubd84\\uac04\",\"\\uace0\\uc694\",\"\\ud504\",\"\\uc6b0\\ub9ac\",\"\\ub098\\uc774\",\"\\uae4c\\uc9c4\",\"\\uc5b4\\ub77c\",\"\\uc57c\\uc9c0\",\"\\uae68\\ub057\",\"\\uc778\",\"\\uc9d1\",\"\\ubd80\\ud305\",\"\\uc544\\ub9c8\\ub3c4\",\"\\ub0b4\\uc694\",\"\\uc544\\uc11c\",\"\\uc774\\uac70\",\"\\ud310\\ub9e4\\uc790\",\"\\ud035\",\"\\uc634\\ub2c8\\uc544\",\"\\uc804\\ubd80\",\"\\ub294\\uc9c0\",\"\\uc9c0\\ub974\",\"\\ud0c0\\uc784\",\"\\ubc18\\uc751\",\"ics\",\"\\ub0b4\\uc77c\",\"\\uc900\\ub2e4\\ub294\",\"SK\",\"kr\",\"\\ub0d0\\uace0\",\"\\ub2f9\\ubd84\\uac04\",\"\\uace0\\uc694\",\"\\ud504\",\"\\uc6b0\\ub9ac\",\"\\ub098\\uc774\",\"\\uae4c\\uc9c4\",\"\\uc5b4\\ub77c\",\"\\uc57c\\uc9c0\",\"\\uae68\\ub057\",\"\\uc778\",\"\\uc9d1\",\"\\ubd80\\ud305\",\"\\uc544\\ub9c8\\ub3c4\",\"\\ub0b4\\uc694\",\"\\uc544\\uc11c\",\"\\uc774\\uac70\",\"\\ud310\\ub9e4\\uc790\",\"\\ud035\",\"\\uc634\\ub2c8\\uc544\",\"\\uc804\\ubd80\",\"\\ub294\\uc9c0\",\"\\uc9c0\\ub974\",\"\\ud0c0\\uc784\",\"\\ubc18\\uc751\",\"ics\",\"\\ub0b4\\uc77c\",\"\\uc900\\ub2e4\\ub294\",\"SK\",\"kr\",\"\\ub0d0\\uace0\",\"\\ub2f9\\ubd84\\uac04\",\"\\uace0\\uc694\",\"\\ud504\",\"\\uc6b0\\ub9ac\",\"\\ub098\\uc774\",\"\\uae4c\\uc9c4\",\"\\uc5b4\\ub77c\",\"\\uc57c\\uc9c0\",\"\\uae68\\ub057\",\"\\uc778\",\"\\uc9d1\",\"\\ubd80\\ud305\",\"\\uc544\\ub9c8\\ub3c4\",\"\\ub0b4\\uc694\",\"\\uc544\\uc11c\",\"\\uc774\\uac70\",\"\\ud310\\ub9e4\\uc790\",\"\\ud035\",\"\\uc634\\ub2c8\\uc544\",\"\\uc804\\ubd80\",\"\\ub294\\uc9c0\",\"\\uc9c0\\ub974\",\"\\ud0c0\\uc784\",\"\\ubc18\\uc751\",\"ics\",\"\\ub0b4\\uc77c\",\"\\uc900\\ub2e4\\ub294\",\"SK\",\"kr\",\"\\ub0d0\\uace0\",\"\\ub2f9\\ubd84\\uac04\",\"\\uace0\\uc694\",\"\\ud504\",\"\\uc6b0\\ub9ac\",\"\\ub098\\uc774\",\"\\uae4c\\uc9c4\",\"\\uc5b4\\ub77c\",\"\\uc57c\\uc9c0\",\"\\uae68\\ub057\",\"\\uc778\",\"\\uc9d1\",\"\\ubd80\\ud305\",\"\\uc544\\ub9c8\\ub3c4\",\"\\ub0b4\\uc694\",\"\\uc544\\uc11c\",\"\\uc774\\uac70\",\"\\ud310\\ub9e4\\uc790\",\"\\ud035\",\"\\uc634\\ub2c8\\uc544\",\"\\uc804\\ubd80\",\"\\ub294\\uc9c0\",\"\\uc9c0\\ub974\",\"\\ud0c0\\uc784\",\"\\ubc18\\uc751\",\"ics\",\"\\ub0b4\\uc77c\",\"\\uc900\\ub2e4\\ub294\",\"SK\",\"kr\",\"\\ub0d0\\uace0\",\"\\ub2f9\\ubd84\\uac04\",\"\\uace0\\uc694\",\"\\ud504\",\"\\uc6b0\\ub9ac\",\"\\ub098\\uc774\",\"\\uae4c\\uc9c4\",\"\\uc5b4\\ub77c\",\"\\uc57c\\uc9c0\",\"\\uae68\\ub057\",\"\\uc778\",\"\\uc9d1\",\"\\ubd80\\ud305\",\"\\uc544\\ub9c8\\ub3c4\",\"\\ub0b4\\uc694\",\"\\uc544\\uc11c\",\"\\uc774\\uac70\",\"\\ud310\\ub9e4\\uc790\",\"\\ud035\",\"\\uc634\\ub2c8\\uc544\",\"\\uc804\\ubd80\",\"\\ub294\\uc9c0\",\"\\uc9c0\\ub974\",\"\\ud0c0\\uc784\",\"\\ubc18\\uc751\",\"ics\",\"\\ub0b4\\uc77c\",\"\\uc900\\ub2e4\\ub294\",\"SK\",\"kr\",\"\\ub0d0\\uace0\",\"\\ub2f9\\ubd84\\uac04\",\"\\uace0\\uc694\",\"\\ud504\",\"\\uc6b0\\ub9ac\",\"\\ub098\\uc774\",\"\\uae4c\\uc9c4\",\"\\uc5b4\\ub77c\",\"\\uc57c\\uc9c0\",\"\\uae68\\ub057\",\"\\uc778\",\"\\uc9d1\",\"\\ubd80\\ud305\",\"\\uc544\\ub9c8\\ub3c4\",\"\\ub0b4\\uc694\",\"\\uc544\\uc11c\",\"\\uc774\\uac70\",\"\\ud310\\ub9e4\\uc790\",\"\\ud035\",\"\\uc634\\ub2c8\\uc544\",\"\\uc804\\ubd80\",\"\\ub294\\uc9c0\",\"\\uc9c0\\ub974\",\"\\ud0c0\\uc784\",\"\\ubc18\\uc751\",\"ics\",\"\\ub0b4\\uc77c\",\"\\uc900\\ub2e4\\ub294\",\"SK\",\"kr\",\"\\ub0d0\\uace0\",\"\\ub2f9\\ubd84\\uac04\",\"\\uace0\\uc694\",\"\\ud504\",\"\\uc6b0\\ub9ac\",\"\\ub098\\uc774\",\"\\uae4c\\uc9c4\",\"\\uc5b4\\ub77c\",\"\\uc57c\\uc9c0\",\"\\uae68\\ub057\",\"\\uc778\",\"\\uc9d1\",\"\\ubd80\\ud305\",\"\\uc544\\ub9c8\\ub3c4\",\"\\ub0b4\\uc694\",\"\\uc544\\uc11c\",\"\\uc774\\uac70\",\"\\ud310\\ub9e4\\uc790\",\"\\ud035\",\"\\uc634\\ub2c8\\uc544\",\"\\uc804\\ubd80\",\"\\ub294\\uc9c0\",\"\\uc9c0\\ub974\",\"\\ud0c0\\uc784\",\"\\ubc18\\uc751\",\"ics\",\"\\ub0b4\\uc77c\",\"\\uc900\\ub2e4\\ub294\",\"SK\",\"kr\",\"\\ub0d0\\uace0\",\"\\ub2f9\\ubd84\\uac04\",\"\\uace0\\uc694\",\"\\ud504\",\"\\uc6b0\\ub9ac\",\"\\ub098\\uc774\",\"\\uae4c\\uc9c4\",\"\\uc5b4\\ub77c\",\"\\uc57c\\uc9c0\",\"\\uae68\\ub057\",\"\\uc778\",\"\\uc9d1\",\"\\ubd80\\ud305\",\"\\uc544\\ub9c8\\ub3c4\",\"\\ub0b4\\uc694\",\"\\uc544\\uc11c\",\"\\uc774\\uac70\",\"\\ud310\\ub9e4\\uc790\",\"\\ud035\",\"\\uc634\\ub2c8\\uc544\",\"\\uc804\\ubd80\",\"\\ub294\\uc9c0\",\"\\uc9c0\\ub974\",\"\\ud0c0\\uc784\",\"\\ubc18\\uc751\",\"ics\",\"\\ub0b4\\uc77c\",\"\\uc900\\ub2e4\\ub294\",\"SK\",\"kr\",\"\\ub0d0\\uace0\",\"\\ub2f9\\ubd84\\uac04\",\"\\uace0\\uc694\",\"\\ud504\",\"\\uc6b0\\ub9ac\",\"\\ub098\\uc774\",\"\\uae4c\\uc9c4\",\"\\uc5b4\\ub77c\",\"\\uc57c\\uc9c0\",\"\\uae68\\ub057\",\"\\uc778\",\"\\uc9d1\",\"\\ubd80\\ud305\",\"\\uc544\\ub9c8\\ub3c4\",\"\\ub0b4\\uc694\",\"\\uc544\\uc11c\",\"\\uc774\\uac70\",\"\\ud310\\ub9e4\\uc790\",\"\\ud035\",\"\\uc634\\ub2c8\\uc544\",\"\\uc804\\ubd80\",\"\\ub294\\uc9c0\",\"\\uc9c0\\ub974\",\"\\ud0c0\\uc784\",\"\\ubc18\\uc751\",\"ics\",\"\\ub0b4\\uc77c\",\"\\uc900\\ub2e4\\ub294\",\"SK\",\"kr\",\"\\ub0d0\\uace0\",\"\\ub2f9\\ubd84\\uac04\",\"\\uace0\\uc694\",\"\\ud504\",\"\\uc6b0\\ub9ac\",\"\\ub098\\uc774\",\"\\uae4c\\uc9c4\",\"\\uc5b4\\ub77c\",\"\\uc57c\\uc9c0\",\"\\uae68\\ub057\",\"\\uc778\",\"\\uc9d1\",\"\\ubd80\\ud305\",\"\\uc544\\ub9c8\\ub3c4\",\"\\ub0b4\\uc694\",\"\\uc544\\uc11c\",\"\\uc774\\uac70\",\"\\ud310\\ub9e4\\uc790\",\"\\ud035\",\"\\uc634\\ub2c8\\uc544\",\"\\uc804\\ubd80\",\"\\ub294\\uc9c0\",\"\\uc9c0\\ub974\",\"\\ud0c0\\uc784\",\"\\ubc18\\uc751\",\"ics\",\"\\ub0b4\\uc77c\",\"\\uc900\\ub2e4\\ub294\",\"SK\",\"kr\",\"\\ub0d0\\uace0\",\"\\ub2f9\\ubd84\\uac04\",\"\\uace0\\uc694\",\"\\ud504\",\"\\uc6b0\\ub9ac\",\"\\ub098\\uc774\",\"\\uae4c\\uc9c4\",\"\\uc5b4\\ub77c\",\"\\uc57c\\uc9c0\",\"\\uae68\\ub057\",\"\\uc778\",\"\\uc9d1\",\"\\ubd80\\ud305\",\"\\uc544\\ub9c8\\ub3c4\",\"\\ub0b4\\uc694\",\"\\uc544\\uc11c\",\"\\uc774\\uac70\",\"\\ud310\\ub9e4\\uc790\",\"\\ud035\",\"\\uc634\\ub2c8\\uc544\",\"\\uc804\\ubd80\",\"\\ub294\\uc9c0\",\"\\uc9c0\\ub974\",\"\\ud0c0\\uc784\",\"\\ubc18\\uc751\",\"ics\",\"\\ub0b4\\uc77c\",\"\\uc900\\ub2e4\\ub294\",\"SK\",\"kr\",\"\\ub0d0\\uace0\",\"\\ub2f9\\ubd84\\uac04\",\"\\uace0\\uc694\",\"\\ud504\",\"\\uc6b0\\ub9ac\",\"\\ub098\\uc774\",\"\\uae4c\\uc9c4\",\"\\uc5b4\\ub77c\",\"\\uc57c\\uc9c0\",\"\\uae68\\ub057\",\"\\uc778\",\"\\uc9d1\",\"\\ubd80\\ud305\",\"\\uc544\\ub9c8\\ub3c4\",\"\\ub0b4\\uc694\",\"\\uc544\\uc11c\",\"\\uc774\\uac70\",\"\\ud310\\ub9e4\\uc790\",\"\\ud035\",\"\\uc634\\ub2c8\\uc544\",\"\\uc804\\ubd80\",\"\\ub294\\uc9c0\",\"\\uc9c0\\ub974\",\"\\ud0c0\\uc784\",\"\\ubc18\\uc751\",\"ics\",\"\\ub0b4\\uc77c\",\"\\uc900\\ub2e4\\ub294\",\"SK\",\"kr\",\"\\ub0d0\\uace0\",\"\\ub2f9\\ubd84\\uac04\",\"\\uace0\\uc694\",\"\\ud504\",\"\\uc6b0\\ub9ac\",\"\\ub098\\uc774\",\"\\uae4c\\uc9c4\",\"\\uc5b4\\ub77c\",\"\\uc57c\\uc9c0\",\"\\uae68\\ub057\",\"\\uc778\",\"\\uc9d1\",\"\\ubd80\\ud305\",\"\\uc544\\ub9c8\\ub3c4\",\"\\ub0b4\\uc694\",\"\\uc544\\uc11c\",\"\\uc774\\uac70\",\"\\ud310\\ub9e4\\uc790\",\"\\ud035\",\"\\uc634\\ub2c8\\uc544\",\"\\uc804\\ubd80\",\"\\ub294\\uc9c0\",\"\\uc9c0\\ub974\",\"\\ud0c0\\uc784\",\"\\ubc18\\uc751\",\"ics\",\"\\ub0b4\\uc77c\",\"\\uc900\\ub2e4\\ub294\",\"SK\",\"kr\",\"\\ub0d0\\uace0\",\"\\ub2f9\\ubd84\\uac04\",\"\\uace0\\uc694\",\"\\ud504\",\"\\uc6b0\\ub9ac\",\"\\ub098\\uc774\",\"\\uae4c\\uc9c4\",\"\\uc5b4\\ub77c\",\"\\uc57c\\uc9c0\",\"\\uae68\\ub057\",\"\\uc778\",\"\\uc9d1\",\"\\ubd80\\ud305\",\"\\uc544\\ub9c8\\ub3c4\",\"\\ub0b4\\uc694\",\"\\uc544\\uc11c\",\"\\uc774\\uac70\",\"\\ud310\\ub9e4\\uc790\",\"\\ud035\",\"\\uc634\\ub2c8\\uc544\",\"\\uc804\\ubd80\",\"\\ub294\\uc9c0\",\"\\uc9c0\\ub974\",\"\\ud0c0\\uc784\",\"\\ubc18\\uc751\",\"ics\",\"\\ub0b4\\uc77c\",\"\\uc900\\ub2e4\\ub294\",\"SK\",\"kr\",\"\\ub0d0\\uace0\",\"\\ub2f9\\ubd84\\uac04\",\"\\uace0\\uc694\",\"\\ud504\",\"\\uc6b0\\ub9ac\",\"\\ub098\\uc774\",\"\\uae4c\\uc9c4\",\"\\uc5b4\\ub77c\",\"\\uc57c\\uc9c0\",\"\\uae68\\ub057\",\"\\uc778\",\"\\uc9d1\",\"\\ubd80\\ud305\",\"\\uc544\\ub9c8\\ub3c4\",\"\\ub0b4\\uc694\",\"\\uc544\\uc11c\",\"\\uc774\\uac70\",\"\\ud310\\ub9e4\\uc790\",\"\\ud035\",\"\\uc634\\ub2c8\\uc544\",\"\\uc804\\ubd80\",\"\\ub294\\uc9c0\",\"\\uc9c0\\ub974\",\"\\ud0c0\\uc784\",\"\\ubc18\\uc751\",\"ics\",\"\\ub0b4\\uc77c\",\"\\uc900\\ub2e4\\ub294\",\"SK\",\"kr\",\"\\ub0d0\\uace0\",\"\\ub2f9\\ubd84\\uac04\",\"\\uace0\\uc694\",\"\\ud504\",\"\\uc6b0\\ub9ac\",\"\\ub098\\uc774\",\"\\uae4c\\uc9c4\",\"\\uc5b4\\ub77c\",\"\\uc57c\\uc9c0\",\"\\uae68\\ub057\",\"\\uc778\",\"\\uc9d1\",\"\\ubd80\\ud305\",\"\\uc544\\ub9c8\\ub3c4\",\"\\ub0b4\\uc694\",\"\\uc544\\uc11c\",\"\\uc774\\uac70\",\"\\ud310\\ub9e4\\uc790\",\"\\ud035\",\"\\uc634\\ub2c8\\uc544\",\"\\uc804\\ubd80\",\"\\ub294\\uc9c0\",\"\\uc9c0\\ub974\",\"\\ud0c0\\uc784\",\"\\ubc18\\uc751\",\"ics\",\"\\ub0b4\\uc77c\",\"\\uc900\\ub2e4\\ub294\",\"SK\",\"kr\",\"\\ub0d0\\uace0\",\"\\ub2f9\\ubd84\\uac04\",\"\\uace0\\uc694\",\"\\ud504\",\"\\uc6b0\\ub9ac\",\"\\ub098\\uc774\",\"\\uae4c\\uc9c4\",\"\\uc5b4\\ub77c\",\"\\uc57c\\uc9c0\",\"\\uae68\\ub057\",\"\\uc778\",\"\\uc9d1\",\"\\ubd80\\ud305\",\"\\uc544\\ub9c8\\ub3c4\",\"\\ub0b4\\uc694\",\"\\uc544\\uc11c\",\"\\uc774\\uac70\",\"\\ud310\\ub9e4\\uc790\",\"\\ud035\",\"\\uc634\\ub2c8\\uc544\",\"\\uc804\\ubd80\",\"\\ub294\\uc9c0\",\"\\uc9c0\\ub974\",\"\\ud0c0\\uc784\",\"\\ubc18\\uc751\",\"ics\",\"\\ub0b4\\uc77c\",\"\\uc900\\ub2e4\\ub294\",\"SK\",\"kr\",\"\\ub0d0\\uace0\",\"\\ub2f9\\ubd84\\uac04\",\"\\uace0\\uc694\",\"\\ud504\",\"\\uc6b0\\ub9ac\",\"\\ub098\\uc774\",\"\\uae4c\\uc9c4\",\"\\uc5b4\\ub77c\",\"\\uc57c\\uc9c0\",\"\\uae68\\ub057\",\"\\uc778\",\"\\uc9d1\",\"\\ubd80\\ud305\",\"\\uc544\\ub9c8\\ub3c4\",\"\\ub0b4\\uc694\",\"\\uc544\\uc11c\",\"\\uc774\\uac70\",\"\\ud310\\ub9e4\\uc790\",\"\\ud035\",\"\\uc634\\ub2c8\\uc544\",\"\\uc804\\ubd80\",\"\\ub294\\uc9c0\",\"\\uc9c0\\ub974\",\"\\ud0c0\\uc784\",\"\\ubc18\\uc751\",\"ics\",\"\\ub0b4\\uc77c\",\"\\uc900\\ub2e4\\ub294\",\"SK\",\"kr\",\"\\ub0d0\\uace0\",\"\\ub2f9\\ubd84\\uac04\",\"\\uace0\\uc694\",\"\\ud504\",\"\\uc6b0\\ub9ac\",\"\\ub098\\uc774\",\"\\uae4c\\uc9c4\",\"\\uc5b4\\ub77c\",\"\\uc57c\\uc9c0\",\"\\uae68\\ub057\",\"\\uc778\",\"\\uc9d1\",\"\\ubd80\\ud305\",\"\\uc544\\ub9c8\\ub3c4\",\"\\ub0b4\\uc694\",\"\\uc544\\uc11c\",\"\\uc774\\uac70\",\"\\ud310\\ub9e4\\uc790\",\"\\ud035\",\"\\uc634\\ub2c8\\uc544\",\"\\uc804\\ubd80\",\"\\ub294\\uc9c0\",\"\\uc9c0\\ub974\",\"\\ud0c0\\uc784\",\"\\ubc18\\uc751\",\"ics\",\"\\ub0b4\\uc77c\",\"\\uc900\\ub2e4\\ub294\",\"SK\",\"kr\",\"\\ub0d0\\uace0\",\"\\ub2f9\\ubd84\\uac04\",\"\\uace0\\uc694\",\"\\ud504\",\"\\uc6b0\\ub9ac\",\"\\ub098\\uc774\",\"\\uae4c\\uc9c4\",\"\\uc5b4\\ub77c\",\"\\uc57c\\uc9c0\",\"\\uae68\\ub057\",\"\\uc778\",\"\\uc9d1\",\"\\ubd80\\ud305\",\"\\uc544\\ub9c8\\ub3c4\",\"\\ub0b4\\uc694\",\"\\uc544\\uc11c\",\"\\uc774\\uac70\",\"\\ud310\\ub9e4\\uc790\",\"\\ud035\",\"\\uc634\\ub2c8\\uc544\",\"\\uc804\\ubd80\",\"\\ub294\\uc9c0\",\"\\uc9c0\\ub974\",\"\\ud0c0\\uc784\",\"\\ubc18\\uc751\",\"ics\",\"\\ub0b4\\uc77c\",\"\\uc900\\ub2e4\\ub294\"]},\"selected\":{\"id\":\"1566\",\"type\":\"Selection\"},\"selection_policy\":{\"id\":\"1565\",\"type\":\"UnionRenderers\"}},\"id\":\"1513\",\"type\":\"ColumnDataSource\"},{\"attributes\":{},\"id\":\"1499\",\"type\":\"SaveTool\"},{\"attributes\":{\"desired_num_ticks\":5},\"id\":\"1519\",\"type\":\"BasicTicker\"},{\"attributes\":{},\"id\":\"1491\",\"type\":\"CategoricalTicker\"},{\"attributes\":{\"axis_line_color\":{\"value\":null},\"formatter\":{\"id\":\"1560\",\"type\":\"CategoricalTickFormatter\"},\"major_label_orientation\":1.0466666666666666,\"major_label_standoff\":0,\"major_tick_line_color\":{\"value\":null},\"plot\":{\"id\":\"1481\",\"subtype\":\"Figure\",\"type\":\"Plot\"},\"ticker\":{\"id\":\"1491\",\"type\":\"CategoricalTicker\"}},\"id\":\"1490\",\"type\":\"CategoricalAxis\"},{\"attributes\":{},\"id\":\"1502\",\"type\":\"ResetTool\"},{\"attributes\":{\"dimension\":1,\"grid_line_color\":{\"value\":null},\"plot\":{\"id\":\"1481\",\"subtype\":\"Figure\",\"type\":\"Plot\"},\"ticker\":{\"id\":\"1495\",\"type\":\"CategoricalTicker\"}},\"id\":\"1497\",\"type\":\"Grid\"},{\"attributes\":{\"plot\":null,\"text\":\"\"},\"id\":\"1559\",\"type\":\"Title\"},{\"attributes\":{\"fill_alpha\":{\"value\":0.1},\"fill_color\":{\"value\":\"#1f77b4\"},\"height\":{\"units\":\"data\",\"value\":1},\"line_alpha\":{\"value\":0.1},\"line_color\":{\"value\":\"#1f77b4\"},\"width\":{\"units\":\"data\",\"value\":1},\"x\":{\"field\":\"x\"},\"y\":{\"field\":\"y\"}},\"id\":\"1516\",\"type\":\"Rect\"},{\"attributes\":{\"active_drag\":\"auto\",\"active_inspect\":\"auto\",\"active_multi\":null,\"active_scroll\":\"auto\",\"active_tap\":\"auto\",\"tools\":[{\"id\":\"1498\",\"type\":\"HoverTool\"},{\"id\":\"1499\",\"type\":\"SaveTool\"},{\"id\":\"1500\",\"type\":\"PanTool\"},{\"id\":\"1501\",\"type\":\"BoxZoomTool\"},{\"id\":\"1502\",\"type\":\"ResetTool\"},{\"id\":\"1503\",\"type\":\"WheelZoomTool\"}]},\"id\":\"1504\",\"type\":\"Toolbar\"},{\"attributes\":{\"fill_color\":{\"field\":\"similarity\",\"transform\":{\"id\":\"1480\",\"type\":\"LinearColorMapper\"}},\"height\":{\"units\":\"data\",\"value\":1},\"line_color\":{\"value\":null},\"width\":{\"units\":\"data\",\"value\":1},\"x\":{\"field\":\"x\"},\"y\":{\"field\":\"y\"}},\"id\":\"1515\",\"type\":\"Rect\"},{\"attributes\":{\"grid_line_color\":{\"value\":null},\"plot\":{\"id\":\"1481\",\"subtype\":\"Figure\",\"type\":\"Plot\"},\"ticker\":{\"id\":\"1491\",\"type\":\"CategoricalTicker\"}},\"id\":\"1493\",\"type\":\"Grid\"},{\"attributes\":{\"axis_line_color\":{\"value\":null},\"formatter\":{\"id\":\"1562\",\"type\":\"CategoricalTickFormatter\"},\"major_label_standoff\":0,\"major_tick_line_color\":{\"value\":null},\"plot\":{\"id\":\"1481\",\"subtype\":\"Figure\",\"type\":\"Plot\"},\"ticker\":{\"id\":\"1495\",\"type\":\"CategoricalTicker\"}},\"id\":\"1494\",\"type\":\"CategoricalAxis\"},{\"attributes\":{},\"id\":\"1503\",\"type\":\"WheelZoomTool\"},{\"attributes\":{\"source\":{\"id\":\"1513\",\"type\":\"ColumnDataSource\"}},\"id\":\"1518\",\"type\":\"CDSView\"},{\"attributes\":{},\"id\":\"1495\",\"type\":\"CategoricalTicker\"}],\"root_ids\":[\"1481\"]},\"title\":\"Bokeh Application\",\"version\":\"1.0.4\"}};\n",
       "  var render_items = [{\"docid\":\"cdd9ea95-49e4-4106-a7ff-82a8e1b549de\",\"roots\":{\"1481\":\"abe46ced-3ff3-46f1-9d17-09308bb996c5\"}}];\n",
       "  root.Bokeh.embed.embed_items_notebook(docs_json, render_items);\n",
       "\n",
       "  }\n",
       "  if (root.Bokeh !== undefined) {\n",
       "    embed_document(root);\n",
       "  } else {\n",
       "    var attempts = 0;\n",
       "    var timer = setInterval(function(root) {\n",
       "      if (root.Bokeh !== undefined) {\n",
       "        embed_document(root);\n",
       "        clearInterval(timer);\n",
       "      }\n",
       "      attempts++;\n",
       "      if (attempts > 100) {\n",
       "        console.log(\"Bokeh: ERROR: Unable to run BokehJS code because BokehJS library is missing\");\n",
       "        clearInterval(timer);\n",
       "      }\n",
       "    }, 10, root)\n",
       "  }\n",
       "})(window);"
      ],
      "application/vnd.bokehjs_exec.v0+json": ""
     },
     "metadata": {
      "application/vnd.bokehjs_exec.v0+json": {
       "id": "1481"
      }
     },
     "output_type": "display_data"
    }
   ],
   "source": [
    "words = random.sample(vocab[:3000], 30)\n",
    "vecs = [embedding_model.wv[word] for word in words]\n",
    "visualize_between_words(words, vecs)"
   ]
  },
  {
   "cell_type": "markdown",
   "metadata": {},
   "source": [
    "## 임베딩을 텍스트 형태로 저장하기"
   ]
  },
  {
   "cell_type": "code",
   "execution_count": 40,
   "metadata": {},
   "outputs": [],
   "source": [
    "with open(\"embedding/word2vec.txt\", \"w\", encoding=\"utf-8\") as f:\n",
    "    for token in vocab:\n",
    "        vec = [str(el) for el in embedding_model.wv[token]]\n",
    "        line = token + \" \" + \" \".join(vec) + \"\\n\"\n",
    "        f.writelines(line)"
   ]
  },
  {
   "cell_type": "code",
   "execution_count": null,
   "metadata": {},
   "outputs": [],
   "source": []
  }
 ],
 "metadata": {
  "kernelspec": {
   "display_name": "Python 3",
   "language": "python",
   "name": "python3"
  },
  "language_info": {
   "codemirror_mode": {
    "name": "ipython",
    "version": 3
   },
   "file_extension": ".py",
   "mimetype": "text/x-python",
   "name": "python",
   "nbconvert_exporter": "python",
   "pygments_lexer": "ipython3",
   "version": "3.7.3"
  }
 },
 "nbformat": 4,
 "nbformat_minor": 2
}
