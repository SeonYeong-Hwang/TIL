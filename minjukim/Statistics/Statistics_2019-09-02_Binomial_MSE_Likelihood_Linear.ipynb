{
 "cells": [
  {
   "cell_type": "markdown",
   "metadata": {},
   "source": [
    "# 이항분포\n",
    "- A 를 할 때 B 일 확률이 **p** 이면 \n",
    "- A 를 **N** 번 했을 때 B 가 X 번 발생할 확률 분포\n",
    "\n",
    "$p$, $N$ 은 parameter: $p$, $N$ 값이 바뀌면 이항분포 모양이 달라진다"
   ]
  },
  {
   "cell_type": "markdown",
   "metadata": {},
   "source": [
    "예시 만들어 보기\n",
    "- $A$: 정수기에 뜨러 갈 때 \n",
    "- $B$: 얼음이 나올 확률 \n",
    "- $P$: $50$%\n",
    "- $N$: 정수기 $3$대\n",
    "- $X$: $1$"
   ]
  },
  {
   "cell_type": "code",
   "execution_count": 2,
   "metadata": {},
   "outputs": [],
   "source": [
    "from numpy.random import binomial"
   ]
  },
  {
   "cell_type": "code",
   "execution_count": 5,
   "metadata": {},
   "outputs": [
    {
     "data": {
      "text/plain": [
       "array([31, 38, 25, 31, 32, 34, 27, 20, 34, 33, 31, 31, 39, 30, 33, 31, 36,\n",
       "       35, 28, 27, 33, 20, 34, 27, 32, 33, 29, 30, 24, 31, 32, 41, 33, 30,\n",
       "       29, 25, 36, 33, 30, 22, 25, 26, 28, 24, 32, 29, 39, 28, 32, 25])"
      ]
     },
     "execution_count": 5,
     "metadata": {},
     "output_type": "execute_result"
    }
   ],
   "source": [
    "data = binomial(100, 0.3, 50) # N=100, p=0.3 에서 50번 데이터 추출\n",
    "data"
   ]
  },
  {
   "cell_type": "code",
   "execution_count": 6,
   "metadata": {},
   "outputs": [
    {
     "data": {
      "text/plain": [
       "array([2, 1, 1, 1, 2, 0, 1, 2, 1, 2, 0, 1, 2, 1, 1, 2, 0, 3, 2, 1, 1, 2,\n",
       "       2, 1, 2, 2, 1, 1, 2, 2, 3, 1, 1, 1, 2, 1, 1, 0, 2, 2, 2, 3, 2, 2,\n",
       "       2, 2, 3, 1, 1, 1])"
      ]
     },
     "execution_count": 6,
     "metadata": {},
     "output_type": "execute_result"
    }
   ],
   "source": [
    "data = binomial(3, 0.5, 50)\n",
    "data"
   ]
  },
  {
   "cell_type": "code",
   "execution_count": 7,
   "metadata": {},
   "outputs": [],
   "source": [
    "from numpy.random import normal"
   ]
  },
  {
   "cell_type": "code",
   "execution_count": 27,
   "metadata": {},
   "outputs": [
    {
     "data": {
      "text/plain": [
       "array([61.36242722, 63.18398537, 49.37337872, 22.14143648, 56.28309164,\n",
       "       66.42141235, 74.61325537, 55.6431654 , 41.23396382, 22.97169704,\n",
       "       41.41949409, 55.50445059, 61.59998405, 53.39118486, 41.2647504 ,\n",
       "       50.01269599, 63.18054732, 47.49920498, 58.31093367, 66.43322271,\n",
       "       34.51972516, 55.23131196, 50.03509012, 65.73772852, 24.95316996,\n",
       "       35.1477396 , 29.33336596, 46.61480466, 43.42790301, 53.06775778,\n",
       "       38.22697971, 54.42653352, 44.34659678, 40.966789  , 56.58455467,\n",
       "       56.91619767, 53.01755798, 53.57188988, 70.63993597, 33.94421713,\n",
       "       51.36455995, 51.88402721, 28.87630448, 66.35057552, 26.37597824,\n",
       "       44.17779925, 33.65507076, 40.90228384, 43.10551992, 32.56362691,\n",
       "       73.67867389, 23.52542036, 64.49709594, 54.33400987, 54.30456083,\n",
       "       35.24562604, 58.24090598, 57.46559965, 51.00486068, 66.83690285,\n",
       "       44.41974077, 22.30937428, 59.65912865, 63.19603992, 43.76911094,\n",
       "       48.9799357 , 38.69906026, 52.12294373, 52.19170437, 57.8059375 ,\n",
       "       74.22526988, 73.72303388, 56.2900985 , 44.22587529, 50.51102465,\n",
       "       32.96413475, 32.85402057, 51.17194526, 17.14947091, 79.01376965,\n",
       "       61.02747691, 13.04964208, 35.21149927, 71.53388699, 78.63078549,\n",
       "       98.91200354, 68.92750251, 30.41004446, 58.68010312, 44.30790834,\n",
       "       40.64003451, 63.76454992, 31.85510837, 57.84136685, 61.78756906,\n",
       "       66.13868361, 65.6988192 , 57.75885875, 72.37624095, 60.29795613])"
      ]
     },
     "execution_count": 27,
     "metadata": {},
     "output_type": "execute_result"
    }
   ],
   "source": [
    "data = normal(50, 15, 100) # 평균 50, 표준편차 15, 인 데이터 100 건 \n",
    "data"
   ]
  },
  {
   "cell_type": "markdown",
   "metadata": {},
   "source": [
    "# 최적화를 이용한 파라미터 추정\n",
    "### 최적화\n",
    "- 제약조건 아래서 목표함수를 최대화(최소화)하는 것\n",
    "- $L = J(p)$ 일 때 $L$ 이 최대/최소가 되는 $p$ 값을 찾는 것\n",
    "\n",
    "### 파라미터 추정\n",
    "- 분포/모형의 파라미터를 추정하는 것\n",
    "- 오차가 가장 작아지는 파라미터를 찾는 것"
   ]
  },
  {
   "cell_type": "markdown",
   "metadata": {},
   "source": [
    "## Mean Square Error 평균 오차 제곱\n",
    "1. 가장 많이 쓰인다\n",
    "2. 연속변수를 예측할 때 사용 (이항분포에는 안 쓴다)\n",
    "3. 오차 = 예측과 실제의 차이\n",
    "4. 평균 오차 제곱이 최소화되도록 파라미터를 추정\n",
    "5. 모든 예측을 평균으로 하면 MSE 는 분산과 같아짐\n",
    "    - 분산이 크다: 전체를 평균값으로 예측한 경우 오차가 크다\n",
    "    - 분산이 작다: 전체를 평균값으로 예측한 경우 오차가 작다"
   ]
  },
  {
   "cell_type": "code",
   "execution_count": 29,
   "metadata": {},
   "outputs": [
    {
     "data": {
      "text/plain": [
       "array([1.29104752e+02, 1.73817470e+02, 3.92654230e-01, 7.76099562e+02,\n",
       "       3.94772406e+01, 2.69662784e+02, 6.05812340e+02, 3.18453158e+01,\n",
       "       7.68433903e+01, 7.30529161e+02, 7.36250816e+01, 3.02989763e+01,\n",
       "       1.34559630e+02, 1.15001348e+01, 7.63045855e+01, 1.61188225e-04,\n",
       "       1.73726828e+02, 6.25397574e+00, 6.90716185e+01, 2.70050809e+02,\n",
       "       2.39638909e+02, 2.73666249e+01, 1.23131657e-03, 2.47676099e+02,\n",
       "       6.27343695e+02, 2.20589639e+02, 4.27109762e+02, 1.14595475e+01,\n",
       "       4.31924589e+01, 9.41113777e+00, 1.38604007e+02, 1.95941990e+01,\n",
       "       3.19609680e+01, 8.15989010e+01, 4.33563602e+01, 4.78337902e+01,\n",
       "       9.10565619e+00, 1.27583973e+01, 4.26006957e+02, 2.57788164e+02,\n",
       "       1.86202387e+00, 3.54955853e+00, 4.46210512e+02, 2.67341320e+02,\n",
       "       5.58094404e+02, 3.38980216e+01, 2.67156712e+02, 8.27684393e+01,\n",
       "       4.75338556e+01, 3.04027106e+02, 5.60679597e+02, 7.00903367e+02,\n",
       "       2.10165791e+02, 1.87836415e+01, 1.85292439e+01, 2.17691551e+02,\n",
       "       6.79125314e+01, 5.57351782e+01, 1.00974498e+00, 2.83481297e+02,\n",
       "       3.11392931e+01, 7.66770753e+02, 9.32987662e+01, 1.74135470e+02,\n",
       "       3.88239784e+01, 1.04053117e+00, 1.27711239e+02, 4.50689010e+00,\n",
       "       4.80356806e+00, 6.09326603e+01, 5.86863701e+02, 5.62782337e+02,\n",
       "       3.95653392e+01, 3.33405161e+01, 2.61146193e-01, 2.90220705e+02,\n",
       "       2.93984611e+02, 1.37345570e+00, 1.07915726e+03, 8.41798829e+02,\n",
       "       1.21605247e+02, 1.36532895e+03, 2.18699754e+02, 4.63708289e+02,\n",
       "       8.19721878e+02, 2.39238409e+03, 3.58250351e+02, 3.83766358e+02,\n",
       "       7.53441902e+01, 3.23999075e+01, 8.76089539e+01, 1.89462835e+02,\n",
       "       3.29237092e+02, 6.14870341e+01, 1.38946784e+02, 2.60457109e+02,\n",
       "       2.46452924e+02, 6.01998892e+01, 5.00696159e+02, 1.06047901e+02])"
      ]
     },
     "execution_count": 29,
     "metadata": {},
     "output_type": "execute_result"
    }
   ],
   "source": [
    "예측 = 50\n",
    "(data - 예측) ** 2"
   ]
  },
  {
   "cell_type": "code",
   "execution_count": 30,
   "metadata": {},
   "outputs": [],
   "source": [
    "import numpy as np"
   ]
  },
  {
   "cell_type": "code",
   "execution_count": 31,
   "metadata": {},
   "outputs": [
    {
     "data": {
      "text/plain": [
       "50.85075192857462"
      ]
     },
     "execution_count": 31,
     "metadata": {},
     "output_type": "execute_result"
    }
   ],
   "source": [
    "np.mean(data)"
   ]
  },
  {
   "cell_type": "code",
   "execution_count": 33,
   "metadata": {},
   "outputs": [
    {
     "data": {
      "text/plain": [
       "239.93023615026362"
      ]
     },
     "execution_count": 33,
     "metadata": {},
     "output_type": "execute_result"
    }
   ],
   "source": [
    "# MSE\n",
    "# 예측에 평균값을 넣으면 가장 MSE 가 작아짐\n",
    "np.mean((data - 예측) ** 2) "
   ]
  },
  {
   "cell_type": "markdown",
   "metadata": {},
   "source": [
    "정규분포에서 나온 데이터가 있을 때 모분포의 평균을 추정하는 방법\n",
    "- MSE 가 가장 작아지는 예측값을 모분포의 평균으로 추정\n",
    "- 수학적인 이유로 데이터의 평균으로 예측했을 때 MSE 가 가장 작음\n",
    "- 따라서 데이터의 평균이 모분포의 평균에 대한 가장 좋은 추정치가 된다"
   ]
  },
  {
   "cell_type": "code",
   "execution_count": 34,
   "metadata": {},
   "outputs": [],
   "source": [
    "from scipy.optimize import minimize"
   ]
  },
  {
   "cell_type": "code",
   "execution_count": 43,
   "metadata": {},
   "outputs": [],
   "source": [
    "def mse(m):\n",
    "    return np.mean((data - m) ** 2) "
   ]
  },
  {
   "cell_type": "code",
   "execution_count": 44,
   "metadata": {},
   "outputs": [
    {
     "data": {
      "text/plain": [
       "      fun: 239.20645730629064\n",
       " hess_inv: array([[0.49999997]])\n",
       "      jac: array([1.90734863e-06])\n",
       "  message: 'Optimization terminated successfully.'\n",
       "     nfev: 18\n",
       "      nit: 4\n",
       "     njev: 6\n",
       "   status: 0\n",
       "  success: True\n",
       "        x: array([50.85075257])"
      ]
     },
     "execution_count": 44,
     "metadata": {},
     "output_type": "execute_result"
    }
   ],
   "source": [
    "# 추정한 최적값\n",
    "# minimize(함수, 초기값)\n",
    "\n",
    "minimize(mse, 100)"
   ]
  },
  {
   "cell_type": "code",
   "execution_count": 45,
   "metadata": {},
   "outputs": [
    {
     "data": {
      "text/plain": [
       "50.85075192857462"
      ]
     },
     "execution_count": 45,
     "metadata": {},
     "output_type": "execute_result"
    }
   ],
   "source": [
    "# 수학적인 최적값\n",
    "np.mean(data)"
   ]
  },
  {
   "cell_type": "code",
   "execution_count": 46,
   "metadata": {},
   "outputs": [],
   "source": [
    "# Mean Absolute Error\n",
    "\n",
    "def mae(m):\n",
    "    return np.mean(abs(data - m)) "
   ]
  },
  {
   "cell_type": "code",
   "execution_count": 47,
   "metadata": {},
   "outputs": [
    {
     "data": {
      "text/plain": [
       "      fun: 12.311618752646812\n",
       " hess_inv: array([[1]])\n",
       "      jac: array([0.])\n",
       "  message: 'Optimization terminated successfully.'\n",
       "     nfev: 18\n",
       "      nit: 1\n",
       "     njev: 6\n",
       "   status: 0\n",
       "  success: True\n",
       "        x: array([52.36613308])"
      ]
     },
     "execution_count": 47,
     "metadata": {},
     "output_type": "execute_result"
    }
   ],
   "source": [
    "# MAE 는 추정값이 여러개가 될 수 있다. 그래서 MSE 를 더 많이 쓴다\n",
    "\n",
    "minimize(mae, 100)"
   ]
  },
  {
   "cell_type": "markdown",
   "metadata": {},
   "source": [
    "### 예시 1) 연기력에 따른 흥행 예측"
   ]
  },
  {
   "cell_type": "code",
   "execution_count": 59,
   "metadata": {},
   "outputs": [
    {
     "data": {
      "text/plain": [
       "array([4, 4, 3, 5, 2])"
      ]
     },
     "execution_count": 59,
     "metadata": {},
     "output_type": "execute_result"
    }
   ],
   "source": [
    "연기력 = np.array([4, 4, 3, 5, 2])\n",
    "연기력"
   ]
  },
  {
   "cell_type": "code",
   "execution_count": 60,
   "metadata": {},
   "outputs": [
    {
     "data": {
      "text/plain": [
       "array([5, 4, 3, 5, 1])"
      ]
     },
     "execution_count": 60,
     "metadata": {},
     "output_type": "execute_result"
    }
   ],
   "source": [
    "흥행 = np.array([5, 4, 3, 5, 1])\n",
    "흥행"
   ]
  },
  {
   "cell_type": "code",
   "execution_count": 55,
   "metadata": {},
   "outputs": [],
   "source": [
    "def mse(parameter):\n",
    "    a, b = parameter\n",
    "    예측 = 연기력 * a + b\n",
    "    return np.mean((흥행 - 예측) ** 2)"
   ]
  },
  {
   "cell_type": "code",
   "execution_count": 58,
   "metadata": {},
   "outputs": [
    {
     "data": {
      "text/plain": [
       "4.4"
      ]
     },
     "execution_count": 58,
     "metadata": {},
     "output_type": "execute_result"
    }
   ],
   "source": [
    "mse((1, 2))"
   ]
  },
  {
   "cell_type": "code",
   "execution_count": 57,
   "metadata": {},
   "outputs": [
    {
     "data": {
      "text/plain": [
       "      fun: 0.24615384615385136\n",
       " hess_inv: array([[ 0.48076923, -1.73076923],\n",
       "       [-1.73076923,  6.73076922]])\n",
       "      jac: array([2.42143869e-08, 5.58793545e-09])\n",
       "  message: 'Optimization terminated successfully.'\n",
       "     nfev: 24\n",
       "      nit: 4\n",
       "     njev: 6\n",
       "   status: 0\n",
       "  success: True\n",
       "        x: array([ 1.38461531, -1.38461513])"
      ]
     },
     "execution_count": 57,
     "metadata": {},
     "output_type": "execute_result"
    }
   ],
   "source": [
    "minimize(mse, (1, 1))"
   ]
  },
  {
   "cell_type": "markdown",
   "metadata": {},
   "source": [
    "### 실습 1) 배달식당의 *배달 속도* 와 *맛*에 따른 *별점* 예측"
   ]
  },
  {
   "cell_type": "code",
   "execution_count": 61,
   "metadata": {},
   "outputs": [
    {
     "data": {
      "text/plain": [
       "array([1, 2, 3, 4, 5])"
      ]
     },
     "execution_count": 61,
     "metadata": {},
     "output_type": "execute_result"
    }
   ],
   "source": [
    "배달속도 = np.array([1, 2, 3, 4, 5])\n",
    "배달속도"
   ]
  },
  {
   "cell_type": "code",
   "execution_count": 62,
   "metadata": {},
   "outputs": [
    {
     "data": {
      "text/plain": [
       "array([5, 2, 5, 2, 3])"
      ]
     },
     "execution_count": 62,
     "metadata": {},
     "output_type": "execute_result"
    }
   ],
   "source": [
    "맛 = np.array([5, 2, 5, 2, 3])\n",
    "맛"
   ]
  },
  {
   "cell_type": "code",
   "execution_count": 66,
   "metadata": {},
   "outputs": [],
   "source": [
    "별점 = np.array([4, 1, 5, 2, 3])"
   ]
  },
  {
   "cell_type": "code",
   "execution_count": 67,
   "metadata": {},
   "outputs": [],
   "source": [
    "def mse(parameter):\n",
    "    a, b, c = parameter\n",
    "    예측 = 배달속도 * a + 맛 * b + c\n",
    "    return np.mean((별점 - 예측) ** 2)"
   ]
  },
  {
   "cell_type": "code",
   "execution_count": 68,
   "metadata": {},
   "outputs": [
    {
     "data": {
      "text/plain": [
       "97.4"
      ]
     },
     "execution_count": 68,
     "metadata": {},
     "output_type": "execute_result"
    }
   ],
   "source": [
    "mse((1, 2, 3))"
   ]
  },
  {
   "cell_type": "code",
   "execution_count": 69,
   "metadata": {},
   "outputs": [
    {
     "data": {
      "text/plain": [
       "      fun: 0.03368421052644242\n",
       " hess_inv: array([[ 0.3026166 ,  0.13153162, -1.3547209 ],\n",
       "       [ 0.13153162,  0.32879893, -1.51145908],\n",
       "       [-1.3547209 , -1.51145908,  9.69108682]])\n",
       "      jac: array([-2.08336860e-06, -2.18860805e-06, -6.89178705e-07])\n",
       "  message: 'Optimization terminated successfully.'\n",
       "     nfev: 60\n",
       "      nit: 10\n",
       "     njev: 12\n",
       "   status: 0\n",
       "  success: True\n",
       "        x: array([ 0.35263154,  1.13157893, -1.90526333])"
      ]
     },
     "execution_count": 69,
     "metadata": {},
     "output_type": "execute_result"
    }
   ],
   "source": [
    "minimize(mse, (1, 1, 1))"
   ]
  },
  {
   "cell_type": "markdown",
   "metadata": {},
   "source": [
    "# 선형모형 = 직선의 방정식\n",
    "- 통계의 기본이다\n",
    "- 최신기법 쓰기 전에 먼저 선형모형을 써본다\n",
    "- 단순한 예측이 틀릴 가능성도 적다"
   ]
  },
  {
   "cell_type": "markdown",
   "metadata": {},
   "source": [
    "### 실습 2) *상대방에 대한 내 감정* 과 *나에 대한 상대방의 감정* 에 따른 *연애 결과* 예측"
   ]
  },
  {
   "cell_type": "code",
   "execution_count": 77,
   "metadata": {},
   "outputs": [],
   "source": [
    "나 = np.array([3, 5, 3, 5, 5, 2, 5, 4, 0, 5])\n",
    "남 = np.array([3, 2, 5, 5, 5, 5, 5, 4, 5, 0])\n",
    "연애 = np.array([0, 1, 4, 3, 0, 0, 5, 3, 0, 0])"
   ]
  },
  {
   "cell_type": "code",
   "execution_count": 78,
   "metadata": {},
   "outputs": [],
   "source": [
    "def mse(parameter):\n",
    "    a, b, c = parameter\n",
    "    예측 = 나 * a + 남 * b + c\n",
    "    return np.mean((연애 - 예측) ** 2)"
   ]
  },
  {
   "cell_type": "code",
   "execution_count": 79,
   "metadata": {},
   "outputs": [
    {
     "data": {
      "text/plain": [
       "51.6"
      ]
     },
     "execution_count": 79,
     "metadata": {},
     "output_type": "execute_result"
    }
   ],
   "source": [
    "mse((1,1,1))"
   ]
  },
  {
   "cell_type": "code",
   "execution_count": 80,
   "metadata": {},
   "outputs": [
    {
     "data": {
      "text/plain": [
       "      fun: 2.1063515269658453\n",
       " hess_inv: array([[ 0.21797788,  0.07582966, -1.1045874 ],\n",
       "       [ 0.07582966,  0.21175757, -1.10487134],\n",
       "       [-1.1045874 , -1.10487134,  8.88715384]])\n",
       "      jac: array([-4.02331352e-06, -3.12924385e-06, -9.83476639e-07])\n",
       "  message: 'Optimization terminated successfully.'\n",
       "     nfev: 65\n",
       "      nit: 11\n",
       "     njev: 13\n",
       "   status: 0\n",
       "  success: True\n",
       "        x: array([ 0.60347618,  0.63986359, -3.12833035])"
      ]
     },
     "execution_count": 80,
     "metadata": {},
     "output_type": "execute_result"
    }
   ],
   "source": [
    "minimize(mse, (1, 1, 1))"
   ]
  },
  {
   "cell_type": "markdown",
   "metadata": {},
   "source": [
    "# 우도 Likelihood \n",
    "- 그럴듯함\n",
    "> 확률은 굉장히 포괄적인 개념\n",
    ">\n",
    "> 우도는 특정한 경우, 확률 중에서도 특정 데이터가 관찰될 확률\n",
    "- 모형과 파라미터를 가정했을 때 현재 데이터 $D$ 가 관찰될 확률\n",
    "- 최대우도법 Maximum Likelihood: 우도를 최대로 하는 파라미터를 찾는 방법\n",
    "\n",
    "### 베이지안 정리를 적용하면\n",
    "$P(M|D)=P(D|M)P(M)  /  P(D)$\n",
    "\n",
    "P(D) 우도\n",
    "P(M) 사후확률: 사후확률은 대부분 구할 수 없다"
   ]
  },
  {
   "cell_type": "markdown",
   "metadata": {},
   "source": [
    "# (교양) 빈도주의(객관주의) vs 베이지안\n",
    "- 빈도주의: 객관적으로 관찰할 수 있는 것만 확률이라고 한다\n",
    "> Fisher\n",
    "\n",
    "- 베이지안 통계학: 주관주의, 확률 = 믿음의 정도\n",
    "> 직관과 훨씬 잘 맞는다\n",
    "> \n",
    "> 논리는 빈도주의보다 훨씬 정교하다\n",
    "> \n",
    "> 계산하기 어려워서 분석할 때는 잘 쓰지 않는다\n",
    ">\n",
    "> e.g. LDA Latent Dirichlet Allocation 주제분석: 텍스트분석할 때 쓰는 모델\n",
    ">\n",
    "> e.g. Casual Impact: 시계열분석에서 쓰는 모델"
   ]
  },
  {
   "cell_type": "code",
   "execution_count": 84,
   "metadata": {},
   "outputs": [],
   "source": [
    "# numpy 기본\n",
    "# scipy 과학, 함수 계산에 필요한 함수가 더 있다\n",
    "\n",
    "from scipy.stats import binom"
   ]
  },
  {
   "cell_type": "code",
   "execution_count": 85,
   "metadata": {},
   "outputs": [
    {
     "data": {
      "text/plain": [
       "0.25"
      ]
     },
     "execution_count": 85,
     "metadata": {},
     "output_type": "execute_result"
    }
   ],
   "source": [
    "# binom.pmf(array, N, p)\n",
    "# 앞면이 나올 확률이 50% 인 동전 2개를 던졌을 때 앞면이 0 개 나올 확률 \n",
    "binom.pmf(0, 2, .5)"
   ]
  },
  {
   "cell_type": "code",
   "execution_count": 87,
   "metadata": {},
   "outputs": [
    {
     "data": {
      "text/plain": [
       "array([0.25, 0.5 , 0.25])"
      ]
     },
     "execution_count": 87,
     "metadata": {},
     "output_type": "execute_result"
    }
   ],
   "source": [
    "binom.pmf([0, 1, 2], 2, .5)"
   ]
  },
  {
   "cell_type": "code",
   "execution_count": 86,
   "metadata": {},
   "outputs": [
    {
     "name": "stdout",
     "output_type": "stream",
     "text": [
      "Help on method pmf in module scipy.stats._distn_infrastructure:\n",
      "\n",
      "pmf(k, *args, **kwds) method of scipy.stats._discrete_distns.binom_gen instance\n",
      "    Probability mass function at k of the given RV.\n",
      "    \n",
      "    Parameters\n",
      "    ----------\n",
      "    k : array_like\n",
      "        Quantiles.\n",
      "    arg1, arg2, arg3,... : array_like\n",
      "        The shape parameter(s) for the distribution (see docstring of the\n",
      "        instance object for more information)\n",
      "    loc : array_like, optional\n",
      "        Location parameter (default=0).\n",
      "    \n",
      "    Returns\n",
      "    -------\n",
      "    pmf : array_like\n",
      "        Probability mass function evaluated at k\n",
      "\n"
     ]
    }
   ],
   "source": [
    "help(binom.pmf)"
   ]
  },
  {
   "cell_type": "code",
   "execution_count": 92,
   "metadata": {},
   "outputs": [],
   "source": [
    "data = binomial(2, .2, 100)"
   ]
  },
  {
   "cell_type": "code",
   "execution_count": 94,
   "metadata": {},
   "outputs": [
    {
     "data": {
      "text/plain": [
       "array([0.25, 0.5 , 0.25, 0.25, 0.5 , 0.5 , 0.5 , 0.5 , 0.5 , 0.5 , 0.25,\n",
       "       0.25, 0.25, 0.25, 0.25, 0.25, 0.25, 0.25, 0.25, 0.25, 0.25, 0.25,\n",
       "       0.25, 0.5 , 0.5 , 0.25, 0.5 , 0.5 , 0.5 , 0.25, 0.5 , 0.25, 0.25,\n",
       "       0.5 , 0.25, 0.5 , 0.25, 0.5 , 0.5 , 0.25, 0.25, 0.25, 0.25, 0.25,\n",
       "       0.25, 0.5 , 0.5 , 0.5 , 0.25, 0.25, 0.5 , 0.25, 0.5 , 0.25, 0.25,\n",
       "       0.25, 0.25, 0.25, 0.25, 0.25, 0.5 , 0.25, 0.25, 0.25, 0.5 , 0.25,\n",
       "       0.25, 0.25, 0.5 , 0.25, 0.5 , 0.25, 0.5 , 0.25, 0.25, 0.25, 0.25,\n",
       "       0.25, 0.25, 0.5 , 0.25, 0.25, 0.25, 0.25, 0.5 , 0.5 , 0.25, 0.5 ,\n",
       "       0.25, 0.25, 0.25, 0.25, 0.25, 0.25, 0.5 , 0.25, 0.5 , 0.5 , 0.25,\n",
       "       0.5 ])"
      ]
     },
     "execution_count": 94,
     "metadata": {},
     "output_type": "execute_result"
    }
   ],
   "source": [
    "p = .5\n",
    "binom.pmf(data, 2, p) # 0의 우도"
   ]
  },
  {
   "cell_type": "markdown",
   "metadata": {},
   "source": [
    "### 로그 우도 Log Likelihood\n",
    "- 많은 우도Likelihood를 곱할 경우 뒷자리가 떨어져나가서 정확하지 않음\n",
    "- 로그 우도Lof Likelihood를 쓰면 계산이 더 정확하고 간편하다\n",
    "- $log(a) + log(b)$"
   ]
  },
  {
   "cell_type": "code",
   "execution_count": 101,
   "metadata": {},
   "outputs": [],
   "source": [
    "from numpy import log"
   ]
  },
  {
   "cell_type": "code",
   "execution_count": 98,
   "metadata": {},
   "outputs": [
    {
     "data": {
      "text/plain": [
       "-114.36928479239099"
      ]
     },
     "execution_count": 98,
     "metadata": {},
     "output_type": "execute_result"
    }
   ],
   "source": [
    "# 우도의 로그의 합 = 우도의 곱의 로그\n",
    "\n",
    "likelihood = binom.pmf(data, 2, p)\n",
    "np.sum(np.log(likelihood))"
   ]
  },
  {
   "cell_type": "code",
   "execution_count": 102,
   "metadata": {},
   "outputs": [],
   "source": [
    "def lk(p):\n",
    "    likelihood = binom.pmf(data, 2, p)\n",
    "    return -np.sum(np.log(likelihood))"
   ]
  },
  {
   "cell_type": "code",
   "execution_count": 107,
   "metadata": {},
   "outputs": [
    {
     "data": {
      "text/plain": [
       "      fun: 77.1910991021158\n",
       " hess_inv: <1x1 LbfgsInvHessProduct with dtype=float64>\n",
       "      jac: array([7.10542736e-06])\n",
       "  message: b'CONVERGENCE: NORM_OF_PROJECTED_GRADIENT_<=_PGTOL'\n",
       "     nfev: 16\n",
       "      nit: 6\n",
       "   status: 0\n",
       "  success: True\n",
       "        x: array([0.205])"
      ]
     },
     "execution_count": 107,
     "metadata": {},
     "output_type": "execute_result"
    }
   ],
   "source": [
    "minimize(lk, .5, bounds=[(0.01, 0.99)])\n",
    "# minimize(lk, [.5, .4], bounds=[(0.01, 0.99), (0.01, 0.99)]) # 변수가 2 개면 범위도 2 개"
   ]
  },
  {
   "cell_type": "markdown",
   "metadata": {},
   "source": [
    "- python 에는 maximize 함수가 없어서\n",
    "- minimize 함수를 이용해서 구한다\n",
    "- log likelihood 의 최소값을 구하면 최대값을 알 수 있다"
   ]
  },
  {
   "cell_type": "markdown",
   "metadata": {},
   "source": [
    "# 로지스틱 선형모형 Logistic Linear\n",
    "- 결과가 0 ~ 1 사이로 나온다\n",
    "- 연속분포 -> 이항분포(0/1)"
   ]
  },
  {
   "cell_type": "markdown",
   "metadata": {},
   "source": [
    "### 예시 1) "
   ]
  },
  {
   "cell_type": "code",
   "execution_count": 110,
   "metadata": {},
   "outputs": [],
   "source": [
    "찌개 = np.array([5, 1, 3, 4, 5, 3]) # 김치찌개 5 4 3 2 1 된장찌개\n",
    "커피 = np.array([0, 1, 0, 1, 1, 1]) # 아메리카노: 1, 라떼: 0"
   ]
  },
  {
   "cell_type": "code",
   "execution_count": 111,
   "metadata": {},
   "outputs": [],
   "source": [
    "from scipy.special import expit # Logistic"
   ]
  },
  {
   "cell_type": "code",
   "execution_count": 121,
   "metadata": {},
   "outputs": [],
   "source": [
    "a = .3\n",
    "b = .2"
   ]
  },
  {
   "cell_type": "code",
   "execution_count": 122,
   "metadata": {},
   "outputs": [
    {
     "data": {
      "text/plain": [
       "array([0.84553473, 0.62245933, 0.75026011, 0.80218389, 0.84553473,\n",
       "       0.75026011])"
      ]
     },
     "execution_count": 122,
     "metadata": {},
     "output_type": "execute_result"
    }
   ],
   "source": [
    "예측 = expit(찌개 * a + b)\n",
    "예측"
   ]
  },
  {
   "cell_type": "code",
   "execution_count": null,
   "metadata": {},
   "outputs": [],
   "source": [
    "# 커피 예측 결과에 대한 우도\n",
    "# 아메리카노(1) 인 경우 예측값 그대로\n",
    "# 라떼(0) 인 경우 (1 - 예측값)\n",
    "\n",
    "[0.16, 0.62, 0.25, 0.80, 0.84, 0.75]"
   ]
  },
  {
   "cell_type": "markdown",
   "metadata": {},
   "source": [
    "### 예시 2) 합격"
   ]
  },
  {
   "cell_type": "code",
   "execution_count": 123,
   "metadata": {},
   "outputs": [],
   "source": [
    "실력 = np.array([5, 1, 3, 4, 5, 3]) \n",
    "합격 = np.array([0, 1, 0, 1, 1, 1])"
   ]
  },
  {
   "cell_type": "code",
   "execution_count": 125,
   "metadata": {},
   "outputs": [
    {
     "data": {
      "text/plain": [
       "array([0.84553473, 0.62245933, 0.75026011, 0.80218389, 0.84553473,\n",
       "       0.75026011])"
      ]
     },
     "execution_count": 125,
     "metadata": {},
     "output_type": "execute_result"
    }
   ],
   "source": [
    "예측 = expit(실력 * a + b)\n",
    "예측"
   ]
  },
  {
   "cell_type": "code",
   "execution_count": 132,
   "metadata": {},
   "outputs": [
    {
     "data": {
      "text/plain": [
       "array([-0.        , -0.47407698, -0.        , -0.22041741, -0.16778603,\n",
       "       -0.28733533])"
      ]
     },
     "execution_count": 132,
     "metadata": {},
     "output_type": "execute_result"
    }
   ],
   "source": [
    "# 탈락한 사람의 우도만 보기\n",
    "합격자우도 = np.log(예측) * 합격\n",
    "합격자우도"
   ]
  },
  {
   "cell_type": "code",
   "execution_count": 133,
   "metadata": {},
   "outputs": [
    {
     "data": {
      "text/plain": [
       "array([-1.86778603, -0.        , -1.38733533, -0.        , -0.        ,\n",
       "       -0.        ])"
      ]
     },
     "execution_count": 133,
     "metadata": {},
     "output_type": "execute_result"
    }
   ],
   "source": [
    "# 탈락한 사람의 우도만 보기\n",
    "탈락자우도 = np.log(1 - 예측)*(1 - 합격)\n",
    "탈락자우도"
   ]
  },
  {
   "cell_type": "code",
   "execution_count": 135,
   "metadata": {},
   "outputs": [
    {
     "data": {
      "text/plain": [
       "array([-1.86778603, -0.47407698, -1.38733533, -0.22041741, -0.16778603,\n",
       "       -0.28733533])"
      ]
     },
     "execution_count": 135,
     "metadata": {},
     "output_type": "execute_result"
    }
   ],
   "source": [
    "우도 = 합격자우도 + 탈락자우도\n",
    "우도"
   ]
  },
  {
   "cell_type": "code",
   "execution_count": 136,
   "metadata": {},
   "outputs": [
    {
     "data": {
      "text/plain": [
       "4.404737103101951"
      ]
     },
     "execution_count": 136,
     "metadata": {},
     "output_type": "execute_result"
    }
   ],
   "source": [
    "-np.sum(우도)"
   ]
  },
  {
   "cell_type": "code",
   "execution_count": 137,
   "metadata": {},
   "outputs": [],
   "source": [
    "# 함수로 나타내기\n",
    "\n",
    "def lk(parameter):\n",
    "    a, b = parameter\n",
    "    예측 = expit(a * 실력 + b)\n",
    "    \n",
    "    합격자우도 = np.log(예측) * 합격         # if 문 써서 구해도 된다\n",
    "    탈락자우도 = np.log(1 - 예측)*(1 - 합격) # 수학적인 트릭\n",
    "    \n",
    "    우도 = 합격자우도 + 탈락자우도\n",
    "    return -np.sum(우도) \n",
    "\n",
    "# 전체 우도Likelihood 가 가장 커지도록 minimize 함수를 통해 parameter 를 구한다\n",
    "# Likelihood sum 앞에 - 를 붙였기 때문에 min 값을 구하면 자동적으로 max 값이 된다"
   ]
  },
  {
   "cell_type": "code",
   "execution_count": 138,
   "metadata": {},
   "outputs": [
    {
     "data": {
      "text/plain": [
       "      fun: 3.6099978479576826\n",
       " hess_inv: array([[ 0.52977702, -2.00372398],\n",
       "       [-2.00372398,  8.40401942]])\n",
       "      jac: array([1.96695328e-06, 3.27825546e-07])\n",
       "  message: 'Optimization terminated successfully.'\n",
       "     nfev: 40\n",
       "      nit: 8\n",
       "     njev: 10\n",
       "   status: 0\n",
       "  success: True\n",
       "        x: array([-0.44005601,  2.2991816 ])"
      ]
     },
     "execution_count": 138,
     "metadata": {},
     "output_type": "execute_result"
    }
   ],
   "source": [
    "minimize(lk, (1, 1))"
   ]
  },
  {
   "cell_type": "markdown",
   "metadata": {},
   "source": [
    "### 예시 3) 연애"
   ]
  },
  {
   "cell_type": "code",
   "execution_count": null,
   "metadata": {},
   "outputs": [],
   "source": [
    "예측 = expit(나 * a + 남 * b + c)\n",
    "예측"
   ]
  },
  {
   "cell_type": "markdown",
   "metadata": {},
   "source": [
    "# 요약\n",
    "### 선형모형 ($y$ 연속) \n",
    "- MSE 가 가장 작은 값이 되도록 하는 $a, b$ 값 찾기\n",
    "- $y = ax + b$\n",
    "\n",
    "### 로지스틱 선형모형 ( $0 < y < 1$) \n",
    "- Maximum Likelihood 우도가 최대가 되도록 하는 $a, b$ 값 찾기\n",
    "- $y = expit(ax + b)$"
   ]
  },
  {
   "cell_type": "markdown",
   "metadata": {},
   "source": [
    "### 예시 4) 소득과 연령에 따른 구매확률"
   ]
  },
  {
   "cell_type": "code",
   "execution_count": 139,
   "metadata": {},
   "outputs": [
    {
     "data": {
      "text/plain": [
       "0.542397940774351"
      ]
     },
     "execution_count": 139,
     "metadata": {},
     "output_type": "execute_result"
    }
   ],
   "source": [
    "연령 = 17\n",
    "소득 = 100\n",
    "expit(0.01 * 연령 + 0.02 * 소득 - 2)"
   ]
  },
  {
   "cell_type": "code",
   "execution_count": 140,
   "metadata": {},
   "outputs": [],
   "source": [
    "a = .3\n",
    "b = .2"
   ]
  },
  {
   "cell_type": "markdown",
   "metadata": {},
   "source": [
    "1. https://archive.ics.uci.edu/ml/index.php\n",
    "2. View all Data set\n",
    "3. Automobile\n",
    "4. Data folder\n",
    "5. "
   ]
  },
  {
   "cell_type": "code",
   "execution_count": null,
   "metadata": {},
   "outputs": [],
   "source": []
  }
 ],
 "metadata": {
  "kernelspec": {
   "display_name": "Python 3",
   "language": "python",
   "name": "python3"
  },
  "language_info": {
   "codemirror_mode": {
    "name": "ipython",
    "version": 3
   },
   "file_extension": ".py",
   "mimetype": "text/x-python",
   "name": "python",
   "nbconvert_exporter": "python",
   "pygments_lexer": "ipython3",
   "version": "3.7.3"
  }
 },
 "nbformat": 4,
 "nbformat_minor": 2
}
